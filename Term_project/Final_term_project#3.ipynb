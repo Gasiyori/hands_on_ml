{
 "cells": [
  {
   "cell_type": "markdown",
   "id": "60d94c2a",
   "metadata": {},
   "source": [
    "# 데이터 분석 기초\n",
    "\n",
    "게임 League of Legend의 데이터셋을 기반으로 데이터 분석"
   ]
  },
  {
   "cell_type": "markdown",
   "id": "32af5f73",
   "metadata": {},
   "source": [
    "## 1. 파일을 Pandas DataFrame으로 받고, Blue팀의 승률을 출력해 보세요."
   ]
  },
  {
   "cell_type": "code",
   "execution_count": 1,
   "id": "2c61ae81",
   "metadata": {},
   "outputs": [
    {
     "name": "stdout",
     "output_type": "stream",
     "text": [
      "<class 'pandas.core.frame.DataFrame'>\n",
      "RangeIndex: 9879 entries, 0 to 9878\n",
      "Data columns (total 40 columns):\n",
      " #   Column                        Non-Null Count  Dtype  \n",
      "---  ------                        --------------  -----  \n",
      " 0   gameId                        9879 non-null   int64  \n",
      " 1   blueWins                      9879 non-null   int64  \n",
      " 2   blueWardsPlaced               9879 non-null   int64  \n",
      " 3   blueWardsDestroyed            9879 non-null   int64  \n",
      " 4   blueFirstBlood                9879 non-null   int64  \n",
      " 5   blueKills                     9879 non-null   int64  \n",
      " 6   blueDeaths                    9879 non-null   int64  \n",
      " 7   blueAssists                   9879 non-null   int64  \n",
      " 8   blueEliteMonsters             9879 non-null   int64  \n",
      " 9   blueDragons                   9879 non-null   int64  \n",
      " 10  blueHeralds                   9879 non-null   int64  \n",
      " 11  blueTowersDestroyed           9879 non-null   int64  \n",
      " 12  blueTotalGold                 9879 non-null   int64  \n",
      " 13  blueAvgLevel                  9879 non-null   float64\n",
      " 14  blueTotalExperience           9879 non-null   int64  \n",
      " 15  blueTotalMinionsKilled        9879 non-null   int64  \n",
      " 16  blueTotalJungleMinionsKilled  9879 non-null   int64  \n",
      " 17  blueGoldDiff                  9879 non-null   int64  \n",
      " 18  blueExperienceDiff            9879 non-null   int64  \n",
      " 19  blueCSPerMin                  9879 non-null   float64\n",
      " 20  blueGoldPerMin                9879 non-null   float64\n",
      " 21  redWardsPlaced                9879 non-null   int64  \n",
      " 22  redWardsDestroyed             9879 non-null   int64  \n",
      " 23  redFirstBlood                 9879 non-null   int64  \n",
      " 24  redKills                      9879 non-null   int64  \n",
      " 25  redDeaths                     9879 non-null   int64  \n",
      " 26  redAssists                    9879 non-null   int64  \n",
      " 27  redEliteMonsters              9879 non-null   int64  \n",
      " 28  redDragons                    9879 non-null   int64  \n",
      " 29  redHeralds                    9879 non-null   int64  \n",
      " 30  redTowersDestroyed            9879 non-null   int64  \n",
      " 31  redTotalGold                  9879 non-null   int64  \n",
      " 32  redAvgLevel                   9879 non-null   float64\n",
      " 33  redTotalExperience            9879 non-null   int64  \n",
      " 34  redTotalMinionsKilled         9879 non-null   int64  \n",
      " 35  redTotalJungleMinionsKilled   9879 non-null   int64  \n",
      " 36  redGoldDiff                   9879 non-null   int64  \n",
      " 37  redExperienceDiff             9879 non-null   int64  \n",
      " 38  redCSPerMin                   9879 non-null   float64\n",
      " 39  redGoldPerMin                 9879 non-null   float64\n",
      "dtypes: float64(6), int64(34)\n",
      "memory usage: 3.0 MB\n"
     ]
    }
   ],
   "source": [
    "import csv\n",
    "import numpy as np\n",
    "import pandas as pd\n",
    "import matplotlib.pyplot as plt\n",
    "\n",
    "df = pd.read_csv(\"high_diamond_ranked_10min.csv\")\n",
    "\n",
    "# 속성 종류 보기\n",
    "df.info()"
   ]
  },
  {
   "cell_type": "code",
   "execution_count": 2,
   "id": "e0df888f",
   "metadata": {},
   "outputs": [
    {
     "data": {
      "text/html": [
       "<div>\n",
       "<style scoped>\n",
       "    .dataframe tbody tr th:only-of-type {\n",
       "        vertical-align: middle;\n",
       "    }\n",
       "\n",
       "    .dataframe tbody tr th {\n",
       "        vertical-align: top;\n",
       "    }\n",
       "\n",
       "    .dataframe thead th {\n",
       "        text-align: right;\n",
       "    }\n",
       "</style>\n",
       "<table border=\"1\" class=\"dataframe\">\n",
       "  <thead>\n",
       "    <tr style=\"text-align: right;\">\n",
       "      <th></th>\n",
       "      <th>gameId</th>\n",
       "      <th>blueWardsPlaced</th>\n",
       "      <th>blueWardsDestroyed</th>\n",
       "      <th>blueFirstBlood</th>\n",
       "      <th>blueKills</th>\n",
       "      <th>blueDeaths</th>\n",
       "      <th>blueAssists</th>\n",
       "      <th>blueEliteMonsters</th>\n",
       "      <th>blueDragons</th>\n",
       "      <th>blueHeralds</th>\n",
       "      <th>...</th>\n",
       "      <th>redTowersDestroyed</th>\n",
       "      <th>redTotalGold</th>\n",
       "      <th>redAvgLevel</th>\n",
       "      <th>redTotalExperience</th>\n",
       "      <th>redTotalMinionsKilled</th>\n",
       "      <th>redTotalJungleMinionsKilled</th>\n",
       "      <th>redGoldDiff</th>\n",
       "      <th>redExperienceDiff</th>\n",
       "      <th>redCSPerMin</th>\n",
       "      <th>redGoldPerMin</th>\n",
       "    </tr>\n",
       "    <tr>\n",
       "      <th>blueWins</th>\n",
       "      <th></th>\n",
       "      <th></th>\n",
       "      <th></th>\n",
       "      <th></th>\n",
       "      <th></th>\n",
       "      <th></th>\n",
       "      <th></th>\n",
       "      <th></th>\n",
       "      <th></th>\n",
       "      <th></th>\n",
       "      <th></th>\n",
       "      <th></th>\n",
       "      <th></th>\n",
       "      <th></th>\n",
       "      <th></th>\n",
       "      <th></th>\n",
       "      <th></th>\n",
       "      <th></th>\n",
       "      <th></th>\n",
       "      <th></th>\n",
       "      <th></th>\n",
       "    </tr>\n",
       "  </thead>\n",
       "  <tbody>\n",
       "    <tr>\n",
       "      <th>0</th>\n",
       "      <td>4949</td>\n",
       "      <td>4949</td>\n",
       "      <td>4949</td>\n",
       "      <td>4949</td>\n",
       "      <td>4949</td>\n",
       "      <td>4949</td>\n",
       "      <td>4949</td>\n",
       "      <td>4949</td>\n",
       "      <td>4949</td>\n",
       "      <td>4949</td>\n",
       "      <td>...</td>\n",
       "      <td>4949</td>\n",
       "      <td>4949</td>\n",
       "      <td>4949</td>\n",
       "      <td>4949</td>\n",
       "      <td>4949</td>\n",
       "      <td>4949</td>\n",
       "      <td>4949</td>\n",
       "      <td>4949</td>\n",
       "      <td>4949</td>\n",
       "      <td>4949</td>\n",
       "    </tr>\n",
       "    <tr>\n",
       "      <th>1</th>\n",
       "      <td>4930</td>\n",
       "      <td>4930</td>\n",
       "      <td>4930</td>\n",
       "      <td>4930</td>\n",
       "      <td>4930</td>\n",
       "      <td>4930</td>\n",
       "      <td>4930</td>\n",
       "      <td>4930</td>\n",
       "      <td>4930</td>\n",
       "      <td>4930</td>\n",
       "      <td>...</td>\n",
       "      <td>4930</td>\n",
       "      <td>4930</td>\n",
       "      <td>4930</td>\n",
       "      <td>4930</td>\n",
       "      <td>4930</td>\n",
       "      <td>4930</td>\n",
       "      <td>4930</td>\n",
       "      <td>4930</td>\n",
       "      <td>4930</td>\n",
       "      <td>4930</td>\n",
       "    </tr>\n",
       "  </tbody>\n",
       "</table>\n",
       "<p>2 rows × 39 columns</p>\n",
       "</div>"
      ],
      "text/plain": [
       "          gameId  blueWardsPlaced  blueWardsDestroyed  blueFirstBlood  \\\n",
       "blueWins                                                                \n",
       "0           4949             4949                4949            4949   \n",
       "1           4930             4930                4930            4930   \n",
       "\n",
       "          blueKills  blueDeaths  blueAssists  blueEliteMonsters  blueDragons  \\\n",
       "blueWins                                                                       \n",
       "0              4949        4949         4949               4949         4949   \n",
       "1              4930        4930         4930               4930         4930   \n",
       "\n",
       "          blueHeralds  ...  redTowersDestroyed  redTotalGold  redAvgLevel  \\\n",
       "blueWins               ...                                                  \n",
       "0                4949  ...                4949          4949         4949   \n",
       "1                4930  ...                4930          4930         4930   \n",
       "\n",
       "          redTotalExperience  redTotalMinionsKilled  \\\n",
       "blueWins                                              \n",
       "0                       4949                   4949   \n",
       "1                       4930                   4930   \n",
       "\n",
       "          redTotalJungleMinionsKilled  redGoldDiff  redExperienceDiff  \\\n",
       "blueWins                                                                \n",
       "0                                4949         4949               4949   \n",
       "1                                4930         4930               4930   \n",
       "\n",
       "          redCSPerMin  redGoldPerMin  \n",
       "blueWins                              \n",
       "0                4949           4949  \n",
       "1                4930           4930  \n",
       "\n",
       "[2 rows x 39 columns]"
      ]
     },
     "execution_count": 2,
     "metadata": {},
     "output_type": "execute_result"
    }
   ],
   "source": [
    "df.groupby('blueWins').count()"
   ]
  },
  {
   "cell_type": "code",
   "execution_count": 3,
   "id": "270f64f7",
   "metadata": {},
   "outputs": [
    {
     "name": "stdout",
     "output_type": "stream",
     "text": [
      "False    9879\n",
      "Name: gameId, dtype: int64\n",
      "False    9879\n",
      "Name: blueWins, dtype: int64\n",
      "False    9879\n",
      "Name: blueWardsPlaced, dtype: int64\n",
      "False    9879\n",
      "Name: blueWardsDestroyed, dtype: int64\n",
      "False    9879\n",
      "Name: blueFirstBlood, dtype: int64\n",
      "False    9879\n",
      "Name: blueKills, dtype: int64\n",
      "False    9879\n",
      "Name: blueDeaths, dtype: int64\n",
      "False    9879\n",
      "Name: blueAssists, dtype: int64\n",
      "False    9879\n",
      "Name: blueEliteMonsters, dtype: int64\n",
      "False    9879\n",
      "Name: blueDragons, dtype: int64\n",
      "False    9879\n",
      "Name: blueHeralds, dtype: int64\n",
      "False    9879\n",
      "Name: blueTowersDestroyed, dtype: int64\n",
      "False    9879\n",
      "Name: blueTotalGold, dtype: int64\n",
      "False    9879\n",
      "Name: blueAvgLevel, dtype: int64\n",
      "False    9879\n",
      "Name: blueTotalExperience, dtype: int64\n",
      "False    9879\n",
      "Name: blueTotalMinionsKilled, dtype: int64\n",
      "False    9879\n",
      "Name: blueTotalJungleMinionsKilled, dtype: int64\n",
      "False    9879\n",
      "Name: blueGoldDiff, dtype: int64\n",
      "False    9879\n",
      "Name: blueExperienceDiff, dtype: int64\n",
      "False    9879\n",
      "Name: blueCSPerMin, dtype: int64\n",
      "False    9879\n",
      "Name: blueGoldPerMin, dtype: int64\n",
      "False    9879\n",
      "Name: redWardsPlaced, dtype: int64\n",
      "False    9879\n",
      "Name: redWardsDestroyed, dtype: int64\n",
      "False    9879\n",
      "Name: redFirstBlood, dtype: int64\n",
      "False    9879\n",
      "Name: redKills, dtype: int64\n",
      "False    9879\n",
      "Name: redDeaths, dtype: int64\n",
      "False    9879\n",
      "Name: redAssists, dtype: int64\n",
      "False    9879\n",
      "Name: redEliteMonsters, dtype: int64\n",
      "False    9879\n",
      "Name: redDragons, dtype: int64\n",
      "False    9879\n",
      "Name: redHeralds, dtype: int64\n",
      "False    9879\n",
      "Name: redTowersDestroyed, dtype: int64\n",
      "False    9879\n",
      "Name: redTotalGold, dtype: int64\n",
      "False    9879\n",
      "Name: redAvgLevel, dtype: int64\n",
      "False    9879\n",
      "Name: redTotalExperience, dtype: int64\n",
      "False    9879\n",
      "Name: redTotalMinionsKilled, dtype: int64\n",
      "False    9879\n",
      "Name: redTotalJungleMinionsKilled, dtype: int64\n",
      "False    9879\n",
      "Name: redGoldDiff, dtype: int64\n",
      "False    9879\n",
      "Name: redExperienceDiff, dtype: int64\n",
      "False    9879\n",
      "Name: redCSPerMin, dtype: int64\n",
      "False    9879\n",
      "Name: redGoldPerMin, dtype: int64\n"
     ]
    }
   ],
   "source": [
    "# 결측치 체크\n",
    "\n",
    "nan_check_list = df.columns\n",
    "\n",
    "for x in range(len(df.columns)):\n",
    "    print(f'{df[nan_check_list[x]].isnull().value_counts()}')\n",
    "    \n",
    "# df[\"blueWins\"].isnull().value_counts()"
   ]
  },
  {
   "cell_type": "code",
   "execution_count": 4,
   "id": "6c89d797",
   "metadata": {},
   "outputs": [
    {
     "data": {
      "text/plain": [
       "9879"
      ]
     },
     "execution_count": 4,
     "metadata": {},
     "output_type": "execute_result"
    }
   ],
   "source": [
    "# 전체 게임 수 구하기\n",
    "\n",
    "len(df.blueWins)"
   ]
  },
  {
   "cell_type": "code",
   "execution_count": 5,
   "id": "020c6cfc",
   "metadata": {
    "scrolled": false
   },
   "outputs": [
    {
     "name": "stdout",
     "output_type": "stream",
     "text": [
      "Blue Team Win count : 4930\n",
      "Blue Team lose count : 4949\n",
      "Whole game : 9879\n"
     ]
    }
   ],
   "source": [
    "# Blue 팀 승리/패배 수 구하기\n",
    "\n",
    "blue_win_count = df[df['blueWins'] == 1]\n",
    "print(f'Blue Team Win count : {len(blue_win_count)}')\n",
    "blue_lose_count = df[df['blueWins'] == 0]\n",
    "print(f'Blue Team lose count : {len(blue_lose_count)}')\n",
    "print(f'Whole game : {len(blue_win_count) + len(blue_lose_count)}')"
   ]
  },
  {
   "cell_type": "code",
   "execution_count": 6,
   "id": "ec7d656c",
   "metadata": {},
   "outputs": [
    {
     "data": {
      "text/html": [
       "<div>\n",
       "<style scoped>\n",
       "    .dataframe tbody tr th:only-of-type {\n",
       "        vertical-align: middle;\n",
       "    }\n",
       "\n",
       "    .dataframe tbody tr th {\n",
       "        vertical-align: top;\n",
       "    }\n",
       "\n",
       "    .dataframe thead th {\n",
       "        text-align: right;\n",
       "    }\n",
       "</style>\n",
       "<table border=\"1\" class=\"dataframe\">\n",
       "  <thead>\n",
       "    <tr style=\"text-align: right;\">\n",
       "      <th></th>\n",
       "      <th>gameId</th>\n",
       "      <th>blueWins</th>\n",
       "      <th>blueWardsPlaced</th>\n",
       "      <th>blueWardsDestroyed</th>\n",
       "      <th>blueFirstBlood</th>\n",
       "      <th>blueKills</th>\n",
       "      <th>blueDeaths</th>\n",
       "      <th>blueAssists</th>\n",
       "      <th>blueEliteMonsters</th>\n",
       "      <th>blueDragons</th>\n",
       "      <th>...</th>\n",
       "      <th>redTowersDestroyed</th>\n",
       "      <th>redTotalGold</th>\n",
       "      <th>redAvgLevel</th>\n",
       "      <th>redTotalExperience</th>\n",
       "      <th>redTotalMinionsKilled</th>\n",
       "      <th>redTotalJungleMinionsKilled</th>\n",
       "      <th>redGoldDiff</th>\n",
       "      <th>redExperienceDiff</th>\n",
       "      <th>redCSPerMin</th>\n",
       "      <th>redGoldPerMin</th>\n",
       "    </tr>\n",
       "  </thead>\n",
       "  <tbody>\n",
       "    <tr>\n",
       "      <th>5</th>\n",
       "      <td>4475365709</td>\n",
       "      <td>1</td>\n",
       "      <td>18</td>\n",
       "      <td>0</td>\n",
       "      <td>0</td>\n",
       "      <td>5</td>\n",
       "      <td>3</td>\n",
       "      <td>6</td>\n",
       "      <td>1</td>\n",
       "      <td>1</td>\n",
       "      <td>...</td>\n",
       "      <td>0</td>\n",
       "      <td>15201</td>\n",
       "      <td>7.0</td>\n",
       "      <td>18060</td>\n",
       "      <td>221</td>\n",
       "      <td>59</td>\n",
       "      <td>-698</td>\n",
       "      <td>-101</td>\n",
       "      <td>22.1</td>\n",
       "      <td>1520.1</td>\n",
       "    </tr>\n",
       "    <tr>\n",
       "      <th>6</th>\n",
       "      <td>4493010632</td>\n",
       "      <td>1</td>\n",
       "      <td>18</td>\n",
       "      <td>3</td>\n",
       "      <td>1</td>\n",
       "      <td>7</td>\n",
       "      <td>6</td>\n",
       "      <td>7</td>\n",
       "      <td>1</td>\n",
       "      <td>1</td>\n",
       "      <td>...</td>\n",
       "      <td>0</td>\n",
       "      <td>14463</td>\n",
       "      <td>6.4</td>\n",
       "      <td>15404</td>\n",
       "      <td>164</td>\n",
       "      <td>35</td>\n",
       "      <td>-2411</td>\n",
       "      <td>-1563</td>\n",
       "      <td>16.4</td>\n",
       "      <td>1446.3</td>\n",
       "    </tr>\n",
       "    <tr>\n",
       "      <th>9</th>\n",
       "      <td>4509433346</td>\n",
       "      <td>1</td>\n",
       "      <td>13</td>\n",
       "      <td>1</td>\n",
       "      <td>1</td>\n",
       "      <td>4</td>\n",
       "      <td>5</td>\n",
       "      <td>5</td>\n",
       "      <td>1</td>\n",
       "      <td>1</td>\n",
       "      <td>...</td>\n",
       "      <td>0</td>\n",
       "      <td>16605</td>\n",
       "      <td>6.8</td>\n",
       "      <td>18379</td>\n",
       "      <td>247</td>\n",
       "      <td>43</td>\n",
       "      <td>1548</td>\n",
       "      <td>1574</td>\n",
       "      <td>24.7</td>\n",
       "      <td>1660.5</td>\n",
       "    </tr>\n",
       "    <tr>\n",
       "      <th>12</th>\n",
       "      <td>4515594785</td>\n",
       "      <td>1</td>\n",
       "      <td>18</td>\n",
       "      <td>1</td>\n",
       "      <td>1</td>\n",
       "      <td>7</td>\n",
       "      <td>1</td>\n",
       "      <td>11</td>\n",
       "      <td>1</td>\n",
       "      <td>1</td>\n",
       "      <td>...</td>\n",
       "      <td>0</td>\n",
       "      <td>14591</td>\n",
       "      <td>6.8</td>\n",
       "      <td>17443</td>\n",
       "      <td>240</td>\n",
       "      <td>50</td>\n",
       "      <td>-3274</td>\n",
       "      <td>-1659</td>\n",
       "      <td>24.0</td>\n",
       "      <td>1459.1</td>\n",
       "    </tr>\n",
       "    <tr>\n",
       "      <th>14</th>\n",
       "      <td>4516505202</td>\n",
       "      <td>1</td>\n",
       "      <td>15</td>\n",
       "      <td>3</td>\n",
       "      <td>1</td>\n",
       "      <td>4</td>\n",
       "      <td>4</td>\n",
       "      <td>4</td>\n",
       "      <td>0</td>\n",
       "      <td>0</td>\n",
       "      <td>...</td>\n",
       "      <td>0</td>\n",
       "      <td>16192</td>\n",
       "      <td>7.0</td>\n",
       "      <td>18083</td>\n",
       "      <td>242</td>\n",
       "      <td>48</td>\n",
       "      <td>470</td>\n",
       "      <td>187</td>\n",
       "      <td>24.2</td>\n",
       "      <td>1619.2</td>\n",
       "    </tr>\n",
       "    <tr>\n",
       "      <th>...</th>\n",
       "      <td>...</td>\n",
       "      <td>...</td>\n",
       "      <td>...</td>\n",
       "      <td>...</td>\n",
       "      <td>...</td>\n",
       "      <td>...</td>\n",
       "      <td>...</td>\n",
       "      <td>...</td>\n",
       "      <td>...</td>\n",
       "      <td>...</td>\n",
       "      <td>...</td>\n",
       "      <td>...</td>\n",
       "      <td>...</td>\n",
       "      <td>...</td>\n",
       "      <td>...</td>\n",
       "      <td>...</td>\n",
       "      <td>...</td>\n",
       "      <td>...</td>\n",
       "      <td>...</td>\n",
       "      <td>...</td>\n",
       "      <td>...</td>\n",
       "    </tr>\n",
       "    <tr>\n",
       "      <th>9872</th>\n",
       "      <td>4527650398</td>\n",
       "      <td>1</td>\n",
       "      <td>12</td>\n",
       "      <td>0</td>\n",
       "      <td>1</td>\n",
       "      <td>7</td>\n",
       "      <td>7</td>\n",
       "      <td>9</td>\n",
       "      <td>0</td>\n",
       "      <td>0</td>\n",
       "      <td>...</td>\n",
       "      <td>0</td>\n",
       "      <td>16399</td>\n",
       "      <td>7.0</td>\n",
       "      <td>18001</td>\n",
       "      <td>216</td>\n",
       "      <td>58</td>\n",
       "      <td>-756</td>\n",
       "      <td>-1</td>\n",
       "      <td>21.6</td>\n",
       "      <td>1639.9</td>\n",
       "    </tr>\n",
       "    <tr>\n",
       "      <th>9873</th>\n",
       "      <td>4527878058</td>\n",
       "      <td>1</td>\n",
       "      <td>18</td>\n",
       "      <td>2</td>\n",
       "      <td>1</td>\n",
       "      <td>12</td>\n",
       "      <td>6</td>\n",
       "      <td>13</td>\n",
       "      <td>0</td>\n",
       "      <td>0</td>\n",
       "      <td>...</td>\n",
       "      <td>0</td>\n",
       "      <td>15934</td>\n",
       "      <td>6.6</td>\n",
       "      <td>17027</td>\n",
       "      <td>197</td>\n",
       "      <td>38</td>\n",
       "      <td>-2639</td>\n",
       "      <td>-2364</td>\n",
       "      <td>19.7</td>\n",
       "      <td>1593.4</td>\n",
       "    </tr>\n",
       "    <tr>\n",
       "      <th>9874</th>\n",
       "      <td>4527873286</td>\n",
       "      <td>1</td>\n",
       "      <td>17</td>\n",
       "      <td>2</td>\n",
       "      <td>1</td>\n",
       "      <td>7</td>\n",
       "      <td>4</td>\n",
       "      <td>5</td>\n",
       "      <td>1</td>\n",
       "      <td>1</td>\n",
       "      <td>...</td>\n",
       "      <td>0</td>\n",
       "      <td>15246</td>\n",
       "      <td>6.8</td>\n",
       "      <td>16498</td>\n",
       "      <td>229</td>\n",
       "      <td>34</td>\n",
       "      <td>-2519</td>\n",
       "      <td>-2469</td>\n",
       "      <td>22.9</td>\n",
       "      <td>1524.6</td>\n",
       "    </tr>\n",
       "    <tr>\n",
       "      <th>9875</th>\n",
       "      <td>4527797466</td>\n",
       "      <td>1</td>\n",
       "      <td>54</td>\n",
       "      <td>0</td>\n",
       "      <td>0</td>\n",
       "      <td>6</td>\n",
       "      <td>4</td>\n",
       "      <td>8</td>\n",
       "      <td>1</td>\n",
       "      <td>1</td>\n",
       "      <td>...</td>\n",
       "      <td>0</td>\n",
       "      <td>15456</td>\n",
       "      <td>7.0</td>\n",
       "      <td>18367</td>\n",
       "      <td>206</td>\n",
       "      <td>56</td>\n",
       "      <td>-782</td>\n",
       "      <td>-888</td>\n",
       "      <td>20.6</td>\n",
       "      <td>1545.6</td>\n",
       "    </tr>\n",
       "    <tr>\n",
       "      <th>9878</th>\n",
       "      <td>4523772935</td>\n",
       "      <td>1</td>\n",
       "      <td>18</td>\n",
       "      <td>0</td>\n",
       "      <td>1</td>\n",
       "      <td>6</td>\n",
       "      <td>6</td>\n",
       "      <td>5</td>\n",
       "      <td>0</td>\n",
       "      <td>0</td>\n",
       "      <td>...</td>\n",
       "      <td>0</td>\n",
       "      <td>15339</td>\n",
       "      <td>6.8</td>\n",
       "      <td>17379</td>\n",
       "      <td>201</td>\n",
       "      <td>46</td>\n",
       "      <td>-927</td>\n",
       "      <td>58</td>\n",
       "      <td>20.1</td>\n",
       "      <td>1533.9</td>\n",
       "    </tr>\n",
       "  </tbody>\n",
       "</table>\n",
       "<p>4930 rows × 40 columns</p>\n",
       "</div>"
      ],
      "text/plain": [
       "          gameId  blueWins  blueWardsPlaced  blueWardsDestroyed  \\\n",
       "5     4475365709         1               18                   0   \n",
       "6     4493010632         1               18                   3   \n",
       "9     4509433346         1               13                   1   \n",
       "12    4515594785         1               18                   1   \n",
       "14    4516505202         1               15                   3   \n",
       "...          ...       ...              ...                 ...   \n",
       "9872  4527650398         1               12                   0   \n",
       "9873  4527878058         1               18                   2   \n",
       "9874  4527873286         1               17                   2   \n",
       "9875  4527797466         1               54                   0   \n",
       "9878  4523772935         1               18                   0   \n",
       "\n",
       "      blueFirstBlood  blueKills  blueDeaths  blueAssists  blueEliteMonsters  \\\n",
       "5                  0          5           3            6                  1   \n",
       "6                  1          7           6            7                  1   \n",
       "9                  1          4           5            5                  1   \n",
       "12                 1          7           1           11                  1   \n",
       "14                 1          4           4            4                  0   \n",
       "...              ...        ...         ...          ...                ...   \n",
       "9872               1          7           7            9                  0   \n",
       "9873               1         12           6           13                  0   \n",
       "9874               1          7           4            5                  1   \n",
       "9875               0          6           4            8                  1   \n",
       "9878               1          6           6            5                  0   \n",
       "\n",
       "      blueDragons  ...  redTowersDestroyed  redTotalGold  redAvgLevel  \\\n",
       "5               1  ...                   0         15201          7.0   \n",
       "6               1  ...                   0         14463          6.4   \n",
       "9               1  ...                   0         16605          6.8   \n",
       "12              1  ...                   0         14591          6.8   \n",
       "14              0  ...                   0         16192          7.0   \n",
       "...           ...  ...                 ...           ...          ...   \n",
       "9872            0  ...                   0         16399          7.0   \n",
       "9873            0  ...                   0         15934          6.6   \n",
       "9874            1  ...                   0         15246          6.8   \n",
       "9875            1  ...                   0         15456          7.0   \n",
       "9878            0  ...                   0         15339          6.8   \n",
       "\n",
       "      redTotalExperience  redTotalMinionsKilled  redTotalJungleMinionsKilled  \\\n",
       "5                  18060                    221                           59   \n",
       "6                  15404                    164                           35   \n",
       "9                  18379                    247                           43   \n",
       "12                 17443                    240                           50   \n",
       "14                 18083                    242                           48   \n",
       "...                  ...                    ...                          ...   \n",
       "9872               18001                    216                           58   \n",
       "9873               17027                    197                           38   \n",
       "9874               16498                    229                           34   \n",
       "9875               18367                    206                           56   \n",
       "9878               17379                    201                           46   \n",
       "\n",
       "      redGoldDiff  redExperienceDiff  redCSPerMin  redGoldPerMin  \n",
       "5            -698               -101         22.1         1520.1  \n",
       "6           -2411              -1563         16.4         1446.3  \n",
       "9            1548               1574         24.7         1660.5  \n",
       "12          -3274              -1659         24.0         1459.1  \n",
       "14            470                187         24.2         1619.2  \n",
       "...           ...                ...          ...            ...  \n",
       "9872         -756                 -1         21.6         1639.9  \n",
       "9873        -2639              -2364         19.7         1593.4  \n",
       "9874        -2519              -2469         22.9         1524.6  \n",
       "9875         -782               -888         20.6         1545.6  \n",
       "9878         -927                 58         20.1         1533.9  \n",
       "\n",
       "[4930 rows x 40 columns]"
      ]
     },
     "execution_count": 6,
     "metadata": {},
     "output_type": "execute_result"
    }
   ],
   "source": [
    "blue_win_count"
   ]
  },
  {
   "cell_type": "markdown",
   "id": "968cd69e",
   "metadata": {},
   "source": [
    "전체 게임 수가 9879개이고 결측치 체크를 통해 누락된 결측치는 없다고 판단함"
   ]
  },
  {
   "cell_type": "code",
   "execution_count": 6,
   "id": "79e1cb50",
   "metadata": {},
   "outputs": [
    {
     "data": {
      "text/plain": [
       "0.4990383642069035"
      ]
     },
     "execution_count": 6,
     "metadata": {},
     "output_type": "execute_result"
    }
   ],
   "source": [
    "# Blue 팀 승리 수 / (Blue 팀 승리 수 + Blue 팀 패배 수) =====> Blue 팀 승률\n",
    "\n",
    "len(blue_win_count) / len(df.blueWins)"
   ]
  },
  {
   "cell_type": "markdown",
   "id": "e37abdc9",
   "metadata": {},
   "source": [
    "## 2. 승리한 팀이 패배한 팀보다 평균적으로 CS를 얼마나 더 많이 먹었는지 출력해 보세요.\n"
   ]
  },
  {
   "cell_type": "markdown",
   "id": "7ed5ab66",
   "metadata": {},
   "source": [
    "전체 CS = blueTotalMinionsKilled, redTotalMinionsKilled\n",
    "평균 CSPM = blueCSPerMin, redCSPerMin\n",
    "\n",
    "비기는 조건은 없음(위에서 win, lose를 count해서 확인했음)\n",
    "\n",
    "이미 위쪽에서 블루팀/레드팀 승리한 데이터 프레임을 만들어놓았음 (blue_win_count, blue_lose_count)\n",
    "\n",
    "이를 활용함"
   ]
  },
  {
   "cell_type": "code",
   "execution_count": 7,
   "id": "caff5809",
   "metadata": {
    "scrolled": true
   },
   "outputs": [
    {
     "name": "stdout",
     "output_type": "stream",
     "text": [
      "blue Team Won, CS defference with red team: 8.933468559837728\n",
      "red Team Won, CS defference with blue team : 10.19599919175591\n"
     ]
    }
   ],
   "source": [
    "# blue team이 이긴 경우, 블루 팀 CS에서 레드 팀 CS를 뺀 평균값을 구해야 함\n",
    "# red team이 이긴 경우, 레드 팀 CS에서 블루 팀 CS를 뺀 평균값을 구해야 함\n",
    "\n",
    "blue_CS = blue_win_count.blueTotalMinionsKilled - blue_win_count.redTotalMinionsKilled\n",
    "red_CS = blue_lose_count.redTotalMinionsKilled - blue_lose_count.blueTotalMinionsKilled\n",
    "\n",
    "# 블루팀과 레드팀이 이겼을 때의 CS 차이\n",
    "print(f'blue Team Won, CS defference with red team: {blue_CS.mean()}')\n",
    "print(f'red Team Won, CS defference with blue team : {red_CS.mean()}')"
   ]
  },
  {
   "cell_type": "code",
   "execution_count": 8,
   "id": "f94a2f7a",
   "metadata": {
    "scrolled": false
   },
   "outputs": [
    {
     "name": "stdout",
     "output_type": "stream",
     "text": [
      "whole game, won teams CS defference with lose team : 9.564733875796819\n"
     ]
    }
   ],
   "source": [
    "print(f'whole game, won teams CS defference with lose team : {(blue_CS.mean() + red_CS.mean())/2}')"
   ]
  },
  {
   "cell_type": "markdown",
   "id": "780ce12e",
   "metadata": {},
   "source": [
    "**이하는 분당 CS를 가정함**"
   ]
  },
  {
   "cell_type": "code",
   "execution_count": 9,
   "id": "6d36e6c0",
   "metadata": {
    "scrolled": true
   },
   "outputs": [
    {
     "name": "stdout",
     "output_type": "stream",
     "text": [
      "blue Team Won, CSPM defference with red team: 0.8933468559837696\n",
      "red Team Won, CSPM defference with blue team : 1.01959991917559\n"
     ]
    }
   ],
   "source": [
    "# blue team이 이긴 경우, 블루 팀 CSPM(CS Per Min)에서 레드 팀 CSPM을 뺀 평균값을 구해야 함\n",
    "# red team이 이긴 경우, 레드 팀 CSPM에서 블루 팀 CSPM을 뺀 평균값을 구해야 함\n",
    "\n",
    "blue_CSPM = blue_win_count.blueCSPerMin - blue_win_count.redCSPerMin\n",
    "red_CSPM = blue_lose_count.redCSPerMin - blue_lose_count.blueCSPerMin\n",
    "\n",
    "# 블루팀과 레드팀이 이겼을 때의 분당 CSPM 차이\n",
    "print(f'blue Team Won, CSPM defference with red team: {blue_CSPM.mean()}')\n",
    "print(f'red Team Won, CSPM defference with blue team : {red_CSPM.mean()}')"
   ]
  },
  {
   "cell_type": "markdown",
   "id": "279d6509",
   "metadata": {},
   "source": [
    "전체 게임의 평균값은 이 둘의 평균값을 더한 다음 2로 나누면 됨"
   ]
  },
  {
   "cell_type": "code",
   "execution_count": 10,
   "id": "d00604a8",
   "metadata": {
    "scrolled": true
   },
   "outputs": [
    {
     "name": "stdout",
     "output_type": "stream",
     "text": [
      "whole game, won teams CS defference with lose team : 0.9564733875796798\n"
     ]
    }
   ],
   "source": [
    "print(f'whole game, won teams CS defference with lose team : {(blue_CSPM.mean() + red_CSPM.mean())/2}')"
   ]
  },
  {
   "cell_type": "markdown",
   "id": "5130809f",
   "metadata": {},
   "source": [
    "## 3. 승리한 팀이 얻은 골드의 총합과 패배한 팀이 얻은 골드의 총합에 대한 히스토그램을 각각 그려보세요.\n",
    "\n",
    "골드 총합 속성 : blueTotalGold, redTotalGold"
   ]
  },
  {
   "cell_type": "code",
   "execution_count": 11,
   "id": "5f1340ad",
   "metadata": {},
   "outputs": [],
   "source": [
    "# 블루 팀이 이겼을 때의 블루 팀 골드 총합 + 블루 팀이 졌을 때의 레드 팀 골드 총합 = (전체) 승리 팀 골드 총합\n",
    "win_team_total_gold = pd.concat([blue_win_count['blueTotalGold'], blue_lose_count['redTotalGold']], ignore_index=True)"
   ]
  },
  {
   "cell_type": "code",
   "execution_count": 12,
   "id": "48075608",
   "metadata": {},
   "outputs": [
    {
     "data": {
      "text/plain": [
       "<Figure size 432x288 with 0 Axes>"
      ]
     },
     "execution_count": 12,
     "metadata": {},
     "output_type": "execute_result"
    },
    {
     "data": {
      "image/png": "[encoded data removed]",
      "text/plain": [
       "<Figure size 432x288 with 1 Axes>"
      ]
     },
     "metadata": {
      "needs_background": "light"
     },
     "output_type": "display_data"
    },
    {
     "data": {
      "text/plain": [
       "<Figure size 432x288 with 0 Axes>"
      ]
     },
     "metadata": {},
     "output_type": "display_data"
    }
   ],
   "source": [
    "plt.hist(win_team_total_gold, histtype='bar', label=['win_team_gold'], bins=50)\n",
    "plt.title('Won teams gold total')\n",
    "plt.legend()\n",
    "plt.figure()"
   ]
  },
  {
   "cell_type": "code",
   "execution_count": 13,
   "id": "6a7de624",
   "metadata": {},
   "outputs": [],
   "source": [
    "# 블루 팀이 졌을 때의 블루 팀 골드 총합 + 블루 팀이 이겼을 때의 레드 팀 골드 총합 = (전체) 패배 팀 골드 총합\n",
    "lose_team_total_gold = pd.concat([blue_lose_count['blueTotalGold'], blue_win_count['redTotalGold']], ignore_index=True)"
   ]
  },
  {
   "cell_type": "code",
   "execution_count": 14,
   "id": "8deca9b7",
   "metadata": {
    "scrolled": true
   },
   "outputs": [
    {
     "data": {
      "text/plain": [
       "<Figure size 432x288 with 0 Axes>"
      ]
     },
     "execution_count": 14,
     "metadata": {},
     "output_type": "execute_result"
    },
    {
     "data": {
      "image/png": "[encoded data removed]",
      "text/plain": [
       "<Figure size 432x288 with 1 Axes>"
      ]
     },
     "metadata": {
      "needs_background": "light"
     },
     "output_type": "display_data"
    },
    {
     "data": {
      "text/plain": [
       "<Figure size 432x288 with 0 Axes>"
      ]
     },
     "metadata": {},
     "output_type": "display_data"
    }
   ],
   "source": [
    "plt.hist(lose_team_total_gold, histtype='bar', label=['lose_team_gold'], bins=50)\n",
    "plt.title('Lose teams gold total')\n",
    "plt.legend()\n",
    "plt.figure()"
   ]
  },
  {
   "cell_type": "markdown",
   "id": "3d3d6598",
   "metadata": {},
   "source": [
    "**아래의 내용은 프로젝트에 해당되지 않을 수도 있으나 확실하지 않기도 하고 직관적인 비교를 위해 추가하였음**"
   ]
  },
  {
   "cell_type": "code",
   "execution_count": 15,
   "id": "58b522fd",
   "metadata": {
    "scrolled": true
   },
   "outputs": [
    {
     "data": {
      "text/plain": [
       "<Figure size 432x288 with 0 Axes>"
      ]
     },
     "execution_count": 15,
     "metadata": {},
     "output_type": "execute_result"
    },
    {
     "data": {
      "image/png": "[encoded data removed]",
      "text/plain": [
       "<Figure size 432x288 with 1 Axes>"
      ]
     },
     "metadata": {
      "needs_background": "light"
     },
     "output_type": "display_data"
    },
    {
     "data": {
      "text/plain": [
       "<Figure size 432x288 with 0 Axes>"
      ]
     },
     "metadata": {},
     "output_type": "display_data"
    }
   ],
   "source": [
    "plt.hist((win_team_total_gold, lose_team_total_gold), label=['win_team_gold', 'lose_team_gold'], bins=100, alpha=0.5)\n",
    "plt.title('Won-Lose teams gold total')\n",
    "plt.legend()\n",
    "plt.figure()"
   ]
  },
  {
   "cell_type": "markdown",
   "id": "21ce86b1",
   "metadata": {},
   "source": [
    "### 4) 상대편보다 킬 수가 많은 것, 상대편보다 얻은 경험치의 총량이 많은 것, 상대편보다 얻은 골드가 많은 것, 상대편보다 평균 레벨이 높은 것, 중에서 게임의 승리에 있어서 가장 중요하다고 생각하는 것은 무엇인지 나름대로 분석해 보고 결론을 내려보세요.\n"
   ]
  },
  {
   "cell_type": "markdown",
   "id": "1bb4a4d1",
   "metadata": {},
   "source": [
    "킬 수, 경험치의 총량, 골드, 평균 레벨 중 중요한 것"
   ]
  },
  {
   "cell_type": "code",
   "execution_count": 16,
   "id": "6ca08328",
   "metadata": {
    "scrolled": true
   },
   "outputs": [
    {
     "data": {
      "text/plain": [
       "blueGoldDiff                    0.511119\n",
       "blueExperienceDiff              0.489558\n",
       "blueTotalGold                   0.417213\n",
       "blueGoldPerMin                  0.417213\n",
       "blueTotalExperience             0.396141\n",
       "blueAvgLevel                    0.357820\n",
       "blueKills                       0.337358\n",
       "redDeaths                       0.337358\n",
       "blueAssists                     0.276685\n",
       "blueCSPerMin                    0.224909\n",
       "blueTotalMinionsKilled          0.224909\n",
       "blueEliteMonsters               0.221944\n",
       "blueDragons                     0.213768\n",
       "blueFirstBlood                  0.201769\n",
       "blueTotalJungleMinionsKilled    0.131445\n",
       "blueTowersDestroyed             0.115566\n",
       "blueHeralds                     0.092385\n",
       "blueWardsDestroyed              0.044247\n",
       "gameId                          0.000985\n",
       "blueWardsPlaced                 0.000087\n",
       "redWardsPlaced                 -0.023671\n",
       "redWardsDestroyed              -0.055400\n",
       "redHeralds                     -0.097172\n",
       "redTowersDestroyed             -0.103696\n",
       "redTotalJungleMinionsKilled    -0.110994\n",
       "redFirstBlood                  -0.201769\n",
       "redDragons                     -0.209516\n",
       "redCSPerMin                    -0.212171\n",
       "redTotalMinionsKilled          -0.212171\n",
       "redEliteMonsters               -0.221551\n",
       "redAssists                     -0.271047\n",
       "blueDeaths                     -0.339297\n",
       "redKills                       -0.339297\n",
       "redAvgLevel                    -0.352127\n",
       "redTotalExperience             -0.387588\n",
       "redGoldPerMin                  -0.411396\n",
       "redTotalGold                   -0.411396\n",
       "redExperienceDiff              -0.489558\n",
       "redGoldDiff                    -0.511119\n",
       "Name: blueWins, dtype: float64"
      ]
     },
     "execution_count": 16,
     "metadata": {},
     "output_type": "execute_result"
    }
   ],
   "source": [
    "corr_matrix = df.corr()\n",
    "corr_matrix = corr_matrix.drop(\"blueWins\")\n",
    "corr_matrix[\"blueWins\"].sort_values(ascending=False)"
   ]
  },
  {
   "cell_type": "code",
   "execution_count": null,
   "id": "131b14c2",
   "metadata": {},
   "outputs": [],
   "source": []
  }
 ],
 "metadata": {
  "kernelspec": {
   "display_name": "Python 3.10.2 64-bit",
   "language": "python",
   "name": "python3"
  },
  "language_info": {
   "codemirror_mode": {
    "name": "ipython",
    "version": 3
   },
   "file_extension": ".py",
   "mimetype": "text/x-python",
   "name": "python",
   "nbconvert_exporter": "python",
   "pygments_lexer": "ipython3",
   "version": "3.10.2"
  },
  "vscode": {
   "interpreter": {
    "hash": "648714aca253e69a86f0a243002a5922b0a429a4d046736a05666eccdfbe79e7"
   }
  }
 },
 "nbformat": 4,
 "nbformat_minor": 5
}
