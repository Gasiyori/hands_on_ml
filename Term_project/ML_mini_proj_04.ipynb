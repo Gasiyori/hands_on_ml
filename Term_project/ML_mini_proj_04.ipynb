{
 "cells": [
  {
   "cell_type": "markdown",
   "id": "261fb61c",
   "metadata": {},
   "source": [
    "# Wine Quality Prediction"
   ]
  },
  {
   "cell_type": "markdown",
   "id": "c86d8a1c",
   "metadata": {},
   "source": [
    "**데이터 프레임 생성 / 함수 생성 / 확인 등등**"
   ]
  },
  {
   "cell_type": "code",
   "execution_count": 1,
   "id": "bed0fac2",
   "metadata": {},
   "outputs": [],
   "source": [
    "import numpy as np\n",
    "import pandas as pd\n",
    "from sklearn.utils import shuffle\n",
    "\n",
    "input_file = \"winequality-red.csv\"\n",
    "df = pd.read_csv(input_file)\n",
    "\n",
    "df = shuffle(df, random_state = 42)"
   ]
  },
  {
   "cell_type": "code",
   "execution_count": 2,
   "id": "2e25e645",
   "metadata": {},
   "outputs": [],
   "source": [
    "def display_scores(scores):\n",
    "    print(\"Scores:\", scores)\n",
    "    print(\"Mean:\", scores.mean())\n",
    "    print(\"Standard deviation:\", scores.std())\n",
    "    \n",
    "def display_scores_mean(scores):\n",
    "    print(\"Mean:\", scores.mean())"
   ]
  },
  {
   "cell_type": "code",
   "execution_count": 3,
   "id": "46f69c7c",
   "metadata": {},
   "outputs": [
    {
     "name": "stdout",
     "output_type": "stream",
     "text": [
      "<class 'pandas.core.frame.DataFrame'>\n",
      "Int64Index: 1599 entries, 803 to 1126\n",
      "Data columns (total 12 columns):\n",
      " #   Column                Non-Null Count  Dtype  \n",
      "---  ------                --------------  -----  \n",
      " 0   fixed acidity         1599 non-null   float64\n",
      " 1   volatile acidity      1599 non-null   float64\n",
      " 2   citric acid           1599 non-null   float64\n",
      " 3   residual sugar        1599 non-null   float64\n",
      " 4   chlorides             1599 non-null   float64\n",
      " 5   free sulfur dioxide   1599 non-null   float64\n",
      " 6   total sulfur dioxide  1599 non-null   float64\n",
      " 7   density               1599 non-null   float64\n",
      " 8   pH                    1599 non-null   float64\n",
      " 9   sulphates             1599 non-null   float64\n",
      " 10  alcohol               1599 non-null   float64\n",
      " 11  quality               1599 non-null   int64  \n",
      "dtypes: float64(11), int64(1)\n",
      "memory usage: 162.4 KB\n"
     ]
    }
   ],
   "source": [
    "df.info()"
   ]
  },
  {
   "cell_type": "markdown",
   "id": "95b5d431",
   "metadata": {},
   "source": [
    "**특성 목록**\n",
    "\n",
    "0. 고정 산도\n",
    "1. 휘발 산도\n",
    "2. 시트르산\n",
    "3. 잔류 설탕\n",
    "4. 염화물\n",
    "5. 자유 이산 화항\n",
    "6. 총 이산 화항\n",
    "7. 밀도\n",
    "8. pH\n",
    "9. 황산염\n",
    "10. 알코올"
   ]
  },
  {
   "cell_type": "markdown",
   "id": "77628ae4",
   "metadata": {},
   "source": [
    "**데이터 프레임을 훈련셋/라벨로 분리**"
   ]
  },
  {
   "cell_type": "code",
   "execution_count": 4,
   "id": "3daf387f",
   "metadata": {},
   "outputs": [],
   "source": [
    "X_train = df.drop([\"quality\"], axis=1)\n",
    "y_train = df[\"quality\"].copy()"
   ]
  },
  {
   "cell_type": "code",
   "execution_count": 5,
   "id": "821a8c2c",
   "metadata": {},
   "outputs": [
    {
     "data": {
      "text/html": [
       "<div>\n",
       "<style scoped>\n",
       "    .dataframe tbody tr th:only-of-type {\n",
       "        vertical-align: middle;\n",
       "    }\n",
       "\n",
       "    .dataframe tbody tr th {\n",
       "        vertical-align: top;\n",
       "    }\n",
       "\n",
       "    .dataframe thead th {\n",
       "        text-align: right;\n",
       "    }\n",
       "</style>\n",
       "<table border=\"1\" class=\"dataframe\">\n",
       "  <thead>\n",
       "    <tr style=\"text-align: right;\">\n",
       "      <th></th>\n",
       "      <th>fixed acidity</th>\n",
       "      <th>volatile acidity</th>\n",
       "      <th>citric acid</th>\n",
       "      <th>residual sugar</th>\n",
       "      <th>chlorides</th>\n",
       "      <th>free sulfur dioxide</th>\n",
       "      <th>total sulfur dioxide</th>\n",
       "      <th>density</th>\n",
       "      <th>pH</th>\n",
       "      <th>sulphates</th>\n",
       "      <th>alcohol</th>\n",
       "    </tr>\n",
       "  </thead>\n",
       "  <tbody>\n",
       "    <tr>\n",
       "      <th>803</th>\n",
       "      <td>7.7</td>\n",
       "      <td>0.560</td>\n",
       "      <td>0.08</td>\n",
       "      <td>2.50</td>\n",
       "      <td>0.114</td>\n",
       "      <td>14.0</td>\n",
       "      <td>46.0</td>\n",
       "      <td>0.99710</td>\n",
       "      <td>3.24</td>\n",
       "      <td>0.66</td>\n",
       "      <td>9.6</td>\n",
       "    </tr>\n",
       "    <tr>\n",
       "      <th>124</th>\n",
       "      <td>7.8</td>\n",
       "      <td>0.500</td>\n",
       "      <td>0.17</td>\n",
       "      <td>1.60</td>\n",
       "      <td>0.082</td>\n",
       "      <td>21.0</td>\n",
       "      <td>102.0</td>\n",
       "      <td>0.99600</td>\n",
       "      <td>3.39</td>\n",
       "      <td>0.48</td>\n",
       "      <td>9.5</td>\n",
       "    </tr>\n",
       "    <tr>\n",
       "      <th>350</th>\n",
       "      <td>10.7</td>\n",
       "      <td>0.670</td>\n",
       "      <td>0.22</td>\n",
       "      <td>2.70</td>\n",
       "      <td>0.107</td>\n",
       "      <td>17.0</td>\n",
       "      <td>34.0</td>\n",
       "      <td>1.00040</td>\n",
       "      <td>3.28</td>\n",
       "      <td>0.98</td>\n",
       "      <td>9.9</td>\n",
       "    </tr>\n",
       "    <tr>\n",
       "      <th>682</th>\n",
       "      <td>8.5</td>\n",
       "      <td>0.460</td>\n",
       "      <td>0.31</td>\n",
       "      <td>2.25</td>\n",
       "      <td>0.078</td>\n",
       "      <td>32.0</td>\n",
       "      <td>58.0</td>\n",
       "      <td>0.99800</td>\n",
       "      <td>3.33</td>\n",
       "      <td>0.54</td>\n",
       "      <td>9.8</td>\n",
       "    </tr>\n",
       "    <tr>\n",
       "      <th>1326</th>\n",
       "      <td>6.7</td>\n",
       "      <td>0.460</td>\n",
       "      <td>0.24</td>\n",
       "      <td>1.70</td>\n",
       "      <td>0.077</td>\n",
       "      <td>18.0</td>\n",
       "      <td>34.0</td>\n",
       "      <td>0.99480</td>\n",
       "      <td>3.39</td>\n",
       "      <td>0.60</td>\n",
       "      <td>10.6</td>\n",
       "    </tr>\n",
       "    <tr>\n",
       "      <th>...</th>\n",
       "      <td>...</td>\n",
       "      <td>...</td>\n",
       "      <td>...</td>\n",
       "      <td>...</td>\n",
       "      <td>...</td>\n",
       "      <td>...</td>\n",
       "      <td>...</td>\n",
       "      <td>...</td>\n",
       "      <td>...</td>\n",
       "      <td>...</td>\n",
       "      <td>...</td>\n",
       "    </tr>\n",
       "    <tr>\n",
       "      <th>1130</th>\n",
       "      <td>9.1</td>\n",
       "      <td>0.600</td>\n",
       "      <td>0.00</td>\n",
       "      <td>1.90</td>\n",
       "      <td>0.058</td>\n",
       "      <td>5.0</td>\n",
       "      <td>10.0</td>\n",
       "      <td>0.99770</td>\n",
       "      <td>3.18</td>\n",
       "      <td>0.63</td>\n",
       "      <td>10.4</td>\n",
       "    </tr>\n",
       "    <tr>\n",
       "      <th>1294</th>\n",
       "      <td>8.2</td>\n",
       "      <td>0.635</td>\n",
       "      <td>0.10</td>\n",
       "      <td>2.10</td>\n",
       "      <td>0.073</td>\n",
       "      <td>25.0</td>\n",
       "      <td>60.0</td>\n",
       "      <td>0.99638</td>\n",
       "      <td>3.29</td>\n",
       "      <td>0.75</td>\n",
       "      <td>10.9</td>\n",
       "    </tr>\n",
       "    <tr>\n",
       "      <th>860</th>\n",
       "      <td>7.2</td>\n",
       "      <td>0.620</td>\n",
       "      <td>0.06</td>\n",
       "      <td>2.70</td>\n",
       "      <td>0.077</td>\n",
       "      <td>15.0</td>\n",
       "      <td>85.0</td>\n",
       "      <td>0.99746</td>\n",
       "      <td>3.51</td>\n",
       "      <td>0.54</td>\n",
       "      <td>9.5</td>\n",
       "    </tr>\n",
       "    <tr>\n",
       "      <th>1459</th>\n",
       "      <td>7.9</td>\n",
       "      <td>0.200</td>\n",
       "      <td>0.35</td>\n",
       "      <td>1.70</td>\n",
       "      <td>0.054</td>\n",
       "      <td>7.0</td>\n",
       "      <td>15.0</td>\n",
       "      <td>0.99458</td>\n",
       "      <td>3.32</td>\n",
       "      <td>0.80</td>\n",
       "      <td>11.9</td>\n",
       "    </tr>\n",
       "    <tr>\n",
       "      <th>1126</th>\n",
       "      <td>5.8</td>\n",
       "      <td>0.290</td>\n",
       "      <td>0.26</td>\n",
       "      <td>1.70</td>\n",
       "      <td>0.063</td>\n",
       "      <td>3.0</td>\n",
       "      <td>11.0</td>\n",
       "      <td>0.99150</td>\n",
       "      <td>3.39</td>\n",
       "      <td>0.54</td>\n",
       "      <td>13.5</td>\n",
       "    </tr>\n",
       "  </tbody>\n",
       "</table>\n",
       "<p>1599 rows × 11 columns</p>\n",
       "</div>"
      ],
      "text/plain": [
       "      fixed acidity  volatile acidity  citric acid  residual sugar  chlorides  \\\n",
       "803             7.7             0.560         0.08            2.50      0.114   \n",
       "124             7.8             0.500         0.17            1.60      0.082   \n",
       "350            10.7             0.670         0.22            2.70      0.107   \n",
       "682             8.5             0.460         0.31            2.25      0.078   \n",
       "1326            6.7             0.460         0.24            1.70      0.077   \n",
       "...             ...               ...          ...             ...        ...   \n",
       "1130            9.1             0.600         0.00            1.90      0.058   \n",
       "1294            8.2             0.635         0.10            2.10      0.073   \n",
       "860             7.2             0.620         0.06            2.70      0.077   \n",
       "1459            7.9             0.200         0.35            1.70      0.054   \n",
       "1126            5.8             0.290         0.26            1.70      0.063   \n",
       "\n",
       "      free sulfur dioxide  total sulfur dioxide  density    pH  sulphates  \\\n",
       "803                  14.0                  46.0  0.99710  3.24       0.66   \n",
       "124                  21.0                 102.0  0.99600  3.39       0.48   \n",
       "350                  17.0                  34.0  1.00040  3.28       0.98   \n",
       "682                  32.0                  58.0  0.99800  3.33       0.54   \n",
       "1326                 18.0                  34.0  0.99480  3.39       0.60   \n",
       "...                   ...                   ...      ...   ...        ...   \n",
       "1130                  5.0                  10.0  0.99770  3.18       0.63   \n",
       "1294                 25.0                  60.0  0.99638  3.29       0.75   \n",
       "860                  15.0                  85.0  0.99746  3.51       0.54   \n",
       "1459                  7.0                  15.0  0.99458  3.32       0.80   \n",
       "1126                  3.0                  11.0  0.99150  3.39       0.54   \n",
       "\n",
       "      alcohol  \n",
       "803       9.6  \n",
       "124       9.5  \n",
       "350       9.9  \n",
       "682       9.8  \n",
       "1326     10.6  \n",
       "...       ...  \n",
       "1130     10.4  \n",
       "1294     10.9  \n",
       "860       9.5  \n",
       "1459     11.9  \n",
       "1126     13.5  \n",
       "\n",
       "[1599 rows x 11 columns]"
      ]
     },
     "execution_count": 5,
     "metadata": {},
     "output_type": "execute_result"
    }
   ],
   "source": [
    "X_train"
   ]
  },
  {
   "cell_type": "code",
   "execution_count": 6,
   "id": "d27a3656",
   "metadata": {},
   "outputs": [
    {
     "data": {
      "text/plain": [
       "803     6\n",
       "124     5\n",
       "350     6\n",
       "682     5\n",
       "1326    6\n",
       "       ..\n",
       "1130    6\n",
       "1294    6\n",
       "860     5\n",
       "1459    7\n",
       "1126    6\n",
       "Name: quality, Length: 1599, dtype: int64"
      ]
     },
     "execution_count": 6,
     "metadata": {},
     "output_type": "execute_result"
    }
   ],
   "source": [
    "y_train"
   ]
  },
  {
   "cell_type": "markdown",
   "id": "96152738",
   "metadata": {},
   "source": [
    "**랜덤 포레스트보다 엑스트라가 더 좋은 결과를 보였음**"
   ]
  },
  {
   "cell_type": "code",
   "execution_count": 8,
   "id": "5dcef1d9",
   "metadata": {},
   "outputs": [
    {
     "data": {
      "text/plain": [
       "ExtraTreesRegressor(random_state=42)"
      ]
     },
     "execution_count": 8,
     "metadata": {},
     "output_type": "execute_result"
    }
   ],
   "source": [
    "from sklearn.ensemble import ExtraTreesRegressor\n",
    "\n",
    "ext_reg = ExtraTreesRegressor(random_state=42)\n",
    "ext_reg.fit(X_train, y_train)"
   ]
  },
  {
   "cell_type": "code",
   "execution_count": 9,
   "id": "2317befb",
   "metadata": {},
   "outputs": [
    {
     "name": "stdout",
     "output_type": "stream",
     "text": [
      "Scores: [0.53636683 0.52877216 0.59122595 0.55056619 0.56376746 0.58689543\n",
      " 0.54629777 0.5734806  0.50869195 0.52686745]\n",
      "Mean: 0.5512931789128495\n",
      "Standard deviation: 0.02583987619504102\n"
     ]
    }
   ],
   "source": [
    "from sklearn.model_selection import cross_val_score\n",
    "\n",
    "ext_scores = cross_val_score(ext_reg, X_train, y_train, scoring = \"neg_mean_squared_error\", cv=10)\n",
    "ext_rmse_scores = np.sqrt(-ext_scores)\n",
    "display_scores(ext_rmse_scores)"
   ]
  },
  {
   "cell_type": "code",
   "execution_count": 10,
   "id": "d21bb925",
   "metadata": {},
   "outputs": [
    {
     "data": {
      "text/plain": [
       "RandomForestRegressor(random_state=42)"
      ]
     },
     "execution_count": 10,
     "metadata": {},
     "output_type": "execute_result"
    }
   ],
   "source": [
    "from sklearn.ensemble import RandomForestRegressor\n",
    "\n",
    "rf_reg = RandomForestRegressor(random_state=42)\n",
    "rf_reg.fit(X_train, y_train)"
   ]
  },
  {
   "cell_type": "code",
   "execution_count": 11,
   "id": "a89fead6",
   "metadata": {},
   "outputs": [
    {
     "name": "stdout",
     "output_type": "stream",
     "text": [
      "Scores: [0.56245555 0.5485572  0.59725832 0.54845009 0.57064437 0.6029008\n",
      " 0.56574674 0.61837084 0.52749526 0.54332832]\n",
      "Mean: 0.5685207495809206\n",
      "Standard deviation: 0.027678481419400287\n"
     ]
    }
   ],
   "source": [
    "rf_scores = cross_val_score(rf_reg, X_train, y_train, scoring = \"neg_mean_squared_error\", cv=10)\n",
    "rf_rmse_scores = np.sqrt(-rf_scores)\n",
    "display_scores(rf_rmse_scores)"
   ]
  },
  {
   "cell_type": "markdown",
   "id": "f3c165b3",
   "metadata": {},
   "source": [
    "1. fixed acidity\n",
    "2. volatile acidity\t\n",
    "3. citric acid\t\n",
    "4. residual sugar\t\n",
    "5. chlorides\t\n",
    "6. free sulfur dioxide\t\n",
    "7. total sulfur dioxide\t\n",
    "8. density\t\n",
    "9. pH\t\n",
    "10. sulphates\t\n",
    "11. alcohol"
   ]
  },
  {
   "cell_type": "markdown",
   "id": "9df4f79c",
   "metadata": {},
   "source": [
    "# 특성 공학"
   ]
  },
  {
   "cell_type": "code",
   "execution_count": null,
   "id": "a97f14c7",
   "metadata": {},
   "outputs": [],
   "source": [
    "X_train_fixed = df.drop([\"fixed acidity\", \"quality\"], axis=1)\n",
    "X_train_volatile = df.drop([\"volatile acidity\", \"quality\"], axis=1)\n",
    "X_train_citric = df.drop([\"citric acid\", \"quality\"], axis=1)\n",
    "X_train_residual = df.drop([\"residual sugar\", \"quality\"], axis=1)\n",
    "X_train_chlorides = df.drop([\"chlorides\", \"quality\"], axis=1)\n",
    "X_train_free = df.drop([\"free sulfur dioxide\", \"quality\"], axis=1)\n",
    "X_train_total = df.drop([\"total sulfur dioxide\", \"quality\"], axis=1)\n",
    "X_train_density = df.drop([\"density\", \"quality\"], axis=1)\n",
    "X_train_pH = df.drop([\"pH\", \"quality\"], axis=1)\n",
    "X_train_sulphates = df.drop([\"sulphates\", \"quality\"], axis=1)\n",
    "X_train_alcohol = df.drop([\"alcohol\", \"quality\"], axis=1)"
   ]
  },
  {
   "cell_type": "markdown",
   "id": "058667d9",
   "metadata": {},
   "source": [
    "## fixed"
   ]
  },
  {
   "cell_type": "code",
   "execution_count": null,
   "id": "687e90b9",
   "metadata": {
    "scrolled": true
   },
   "outputs": [],
   "source": [
    "ext_reg_fixed = ExtraTreesRegressor(random_state=42)\n",
    "ext_reg_fixed.fit(X_train_fixed, y_train)"
   ]
  },
  {
   "cell_type": "code",
   "execution_count": null,
   "id": "1bcda458",
   "metadata": {
    "scrolled": false
   },
   "outputs": [],
   "source": [
    "ext_scores_fixed = cross_val_score(ext_reg_fixed, X_train_fixed, y_train, scoring = \"neg_mean_squared_error\", cv=10)\n",
    "ext_rmse_scores_fixed = np.sqrt(-ext_scores_fixed)\n",
    "display_scores(ext_rmse_scores_fixed)"
   ]
  },
  {
   "cell_type": "markdown",
   "id": "7f7333f8",
   "metadata": {},
   "source": [
    "## volatile"
   ]
  },
  {
   "cell_type": "code",
   "execution_count": null,
   "id": "3309ae17",
   "metadata": {
    "scrolled": true
   },
   "outputs": [],
   "source": [
    "ext_reg_volatile = ExtraTreesRegressor(random_state=42)\n",
    "ext_reg_volatile.fit(X_train_volatile, y_train)"
   ]
  },
  {
   "cell_type": "code",
   "execution_count": null,
   "id": "ff1b68a7",
   "metadata": {
    "scrolled": true
   },
   "outputs": [],
   "source": [
    "ext_scores_volatile = cross_val_score(ext_reg_volatile, X_train_volatile, y_train, scoring = \"neg_mean_squared_error\", cv=10)\n",
    "ext_rmse_scores_volatile = np.sqrt(-ext_scores_volatile)\n",
    "display_scores(ext_rmse_scores_volatile)"
   ]
  },
  {
   "cell_type": "markdown",
   "id": "32703401",
   "metadata": {},
   "source": [
    "## citric"
   ]
  },
  {
   "cell_type": "code",
   "execution_count": null,
   "id": "5a3806f7",
   "metadata": {
    "scrolled": true
   },
   "outputs": [],
   "source": [
    "ext_reg_citric = ExtraTreesRegressor(random_state=42)\n",
    "ext_reg_citric.fit(X_train_citric, y_train)"
   ]
  },
  {
   "cell_type": "code",
   "execution_count": null,
   "id": "9823e1a0",
   "metadata": {},
   "outputs": [],
   "source": [
    "ext_scores_citric = cross_val_score(ext_reg_citric, X_train_citric, y_train, scoring = \"neg_mean_squared_error\", cv=10)\n",
    "ext_rmse_scores_citric = np.sqrt(-ext_scores_citric)\n",
    "display_scores(ext_rmse_scores_citric)"
   ]
  },
  {
   "cell_type": "markdown",
   "id": "c1414201",
   "metadata": {},
   "source": [
    "## residual"
   ]
  },
  {
   "cell_type": "code",
   "execution_count": null,
   "id": "7034f989",
   "metadata": {
    "scrolled": true
   },
   "outputs": [],
   "source": [
    "ext_reg_residual = ExtraTreesRegressor(random_state=42)\n",
    "ext_reg_residual.fit(X_train_residual, y_train)"
   ]
  },
  {
   "cell_type": "code",
   "execution_count": null,
   "id": "2be39492",
   "metadata": {},
   "outputs": [],
   "source": [
    "ext_scores_residual = cross_val_score(ext_reg_residual, X_train_residual, y_train, scoring = \"neg_mean_squared_error\", cv=10)\n",
    "ext_rmse_scores_residual = np.sqrt(-ext_scores_residual)\n",
    "display_scores(ext_rmse_scores_residual)"
   ]
  },
  {
   "cell_type": "markdown",
   "id": "284c46a1",
   "metadata": {},
   "source": [
    "## chlorides"
   ]
  },
  {
   "cell_type": "code",
   "execution_count": null,
   "id": "f899e72f",
   "metadata": {
    "scrolled": true
   },
   "outputs": [],
   "source": [
    "ext_reg_chlorides = ExtraTreesRegressor(random_state=42)\n",
    "ext_reg_chlorides.fit(X_train_chlorides, y_train)"
   ]
  },
  {
   "cell_type": "code",
   "execution_count": null,
   "id": "abe55af3",
   "metadata": {
    "scrolled": true
   },
   "outputs": [],
   "source": [
    "ext_scores_chlorides = cross_val_score(ext_reg_chlorides, X_train_chlorides, y_train, scoring = \"neg_mean_squared_error\", cv=10)\n",
    "ext_rmse_scores_chlorides = np.sqrt(-ext_scores_chlorides)\n",
    "display_scores(ext_rmse_scores_chlorides)"
   ]
  },
  {
   "cell_type": "markdown",
   "id": "c6bbba8a",
   "metadata": {},
   "source": [
    "## free"
   ]
  },
  {
   "cell_type": "code",
   "execution_count": null,
   "id": "d59d222b",
   "metadata": {
    "scrolled": true
   },
   "outputs": [],
   "source": [
    "ext_reg_free = ExtraTreesRegressor(random_state=42)\n",
    "ext_reg_free.fit(X_train_free, y_train)"
   ]
  },
  {
   "cell_type": "code",
   "execution_count": null,
   "id": "702c37d0",
   "metadata": {},
   "outputs": [],
   "source": [
    "ext_scores_free = cross_val_score(ext_reg_free, X_train_free, y_train, scoring = \"neg_mean_squared_error\", cv=10)\n",
    "ext_rmse_scores_free = np.sqrt(-ext_scores_free)\n",
    "display_scores(ext_rmse_scores_free)"
   ]
  },
  {
   "cell_type": "markdown",
   "id": "d25b1611",
   "metadata": {},
   "source": [
    "## total"
   ]
  },
  {
   "cell_type": "code",
   "execution_count": null,
   "id": "db18804b",
   "metadata": {
    "scrolled": true
   },
   "outputs": [],
   "source": [
    "ext_reg_total = ExtraTreesRegressor(random_state=42)\n",
    "ext_reg_total.fit(X_train_total, y_train)"
   ]
  },
  {
   "cell_type": "code",
   "execution_count": null,
   "id": "985675f9",
   "metadata": {},
   "outputs": [],
   "source": [
    "ext_scores_total = cross_val_score(ext_reg_total, X_train_total, y_train, scoring = \"neg_mean_squared_error\", cv=10)\n",
    "ext_rmse_scores_total = np.sqrt(-ext_scores_total)\n",
    "display_scores(ext_rmse_scores_total)"
   ]
  },
  {
   "cell_type": "markdown",
   "id": "8997d745",
   "metadata": {},
   "source": [
    "## density"
   ]
  },
  {
   "cell_type": "code",
   "execution_count": null,
   "id": "1b8bc396",
   "metadata": {
    "scrolled": true
   },
   "outputs": [],
   "source": [
    "ext_reg_density = ExtraTreesRegressor(random_state=42)\n",
    "ext_reg_density.fit(X_train_density, y_train)"
   ]
  },
  {
   "cell_type": "code",
   "execution_count": null,
   "id": "f84399e6",
   "metadata": {},
   "outputs": [],
   "source": [
    "ext_scores_density = cross_val_score(ext_reg_density, X_train_density, y_train, scoring = \"neg_mean_squared_error\", cv=10)\n",
    "ext_rmse_scores_density = np.sqrt(-ext_scores_density)\n",
    "display_scores(ext_rmse_scores_density)"
   ]
  },
  {
   "cell_type": "markdown",
   "id": "373d38ea",
   "metadata": {},
   "source": [
    "## pH"
   ]
  },
  {
   "cell_type": "code",
   "execution_count": null,
   "id": "fe38f3ce",
   "metadata": {
    "scrolled": true
   },
   "outputs": [],
   "source": [
    "ext_reg_pH = ExtraTreesRegressor(random_state=42)\n",
    "ext_reg_pH.fit(X_train_pH, y_train)"
   ]
  },
  {
   "cell_type": "code",
   "execution_count": null,
   "id": "f1b37cde",
   "metadata": {
    "scrolled": true
   },
   "outputs": [],
   "source": [
    "ext_scores_pH = cross_val_score(ext_reg_pH, X_train_pH, y_train, scoring = \"neg_mean_squared_error\", cv=10)\n",
    "ext_rmse_scores_pH = np.sqrt(-ext_scores_pH)\n",
    "display_scores(ext_rmse_scores_pH)"
   ]
  },
  {
   "cell_type": "markdown",
   "id": "5ea2d1b0",
   "metadata": {},
   "source": [
    "## sulphates"
   ]
  },
  {
   "cell_type": "code",
   "execution_count": null,
   "id": "6e813985",
   "metadata": {
    "scrolled": false
   },
   "outputs": [],
   "source": [
    "ext_reg_sulphates = ExtraTreesRegressor(random_state=42)\n",
    "ext_reg_sulphates.fit(X_train_sulphates, y_train)"
   ]
  },
  {
   "cell_type": "code",
   "execution_count": null,
   "id": "fe7fd274",
   "metadata": {},
   "outputs": [],
   "source": [
    "ext_scores_sulphates = cross_val_score(ext_reg_sulphates, X_train_sulphates, y_train, scoring = \"neg_mean_squared_error\", cv=10)\n",
    "ext_rmse_scores_sulphates = np.sqrt(-ext_scores_sulphates)\n",
    "display_scores(ext_rmse_scores_sulphates)"
   ]
  },
  {
   "cell_type": "markdown",
   "id": "19b4ef22",
   "metadata": {},
   "source": [
    "## alcohol"
   ]
  },
  {
   "cell_type": "code",
   "execution_count": null,
   "id": "8e4bdfaa",
   "metadata": {},
   "outputs": [],
   "source": [
    "ext_reg_alcohol = ExtraTreesRegressor(random_state=42)\n",
    "ext_reg_alcohol.fit(X_train_alcohol, y_train)"
   ]
  },
  {
   "cell_type": "code",
   "execution_count": null,
   "id": "9b7dcc57",
   "metadata": {
    "scrolled": true
   },
   "outputs": [],
   "source": [
    "ext_scores_alcohol = cross_val_score(ext_reg_alcohol, X_train_alcohol, y_train, scoring = \"neg_mean_squared_error\", cv=10)\n",
    "ext_rmse_scores_alcohol = np.sqrt(-ext_scores_alcohol)\n",
    "display_scores(ext_rmse_scores_alcohol)"
   ]
  },
  {
   "cell_type": "markdown",
   "id": "8c5ea841",
   "metadata": {},
   "source": [
    "## 특성 몇 개 지우고 테스트"
   ]
  },
  {
   "cell_type": "code",
   "execution_count": null,
   "id": "b5f36779",
   "metadata": {},
   "outputs": [],
   "source": [
    "X_train_test = df.drop([\"fixed acidity\", \"density\", \"quality\"], axis=1)\n",
    "ext_reg_test = ExtraTreesRegressor(random_state=42)\n",
    "ext_reg_test.fit(X_train_test, y_train)"
   ]
  },
  {
   "cell_type": "code",
   "execution_count": null,
   "id": "c0053f35",
   "metadata": {
    "scrolled": true
   },
   "outputs": [],
   "source": [
    "ext_scores_test = cross_val_score(ext_reg_test, X_train_test, y_train, scoring = \"neg_mean_squared_error\", cv=10)\n",
    "ext_rmse_scores_test = np.sqrt(-ext_scores_test)\n",
    "display_scores(ext_rmse_scores_test)"
   ]
  },
  {
   "cell_type": "code",
   "execution_count": null,
   "id": "3cf4548d",
   "metadata": {},
   "outputs": [],
   "source": [
    "ext_reg_test = ExtraTreesRegressor(random_state=0, n_jobs=-1)\n",
    "ext_reg_test.fit(X_train_test, y_train)\n",
    "\n",
    "ext_scores_test = cross_val_score(ext_reg_test, X_train_test, y_train, scoring = \"neg_mean_squared_error\", cv=10)\n",
    "past_rmse_scores = np.sqrt(-ext_scores_test)\n",
    "\n",
    "for x in range(1, 10000):\n",
    "    ext_reg_test = ExtraTreesRegressor(random_state=x, n_jobs=-1)\n",
    "    ext_reg_test.fit(X_train_test, y_train)\n",
    "    \n",
    "    ext_scores_test = cross_val_score(ext_reg_test, X_train_test, y_train, scoring = \"neg_mean_squared_error\", cv=10)\n",
    "#     ext_rmse_scores_test = np.sqrt(-ext_scores_test)\n",
    "    current_rmse_scores_test = np.sqrt(-ext_scores_test)\n",
    "\n",
    "    if current_rmse_scores_test.mean() < past_rmse_scores.mean():\n",
    "        past_rmse_scores = current_rmse_scores_test\n",
    "        print(f\"{x}번째 rmse값:{np.mean(past_rmse_scores)}\")\n",
    "        \n",
    "display_scores_mean(past_rmse_scores) # best random_state"
   ]
  },
  {
   "cell_type": "markdown",
   "id": "8179cb6a",
   "metadata": {},
   "source": [
    "**기본 rs가 42인 기준에서는 0.5493939765435303의 값을 지님**\n",
    "\n",
    "2346번째 rmse값:0.5454708458211521...\n",
    "\n",
    "끝까지 하기엔 시간 오래걸려서 인터럽트 걸었음. 위는 무시해도 좋은 코드."
   ]
  },
  {
   "cell_type": "markdown",
   "id": "414960b4",
   "metadata": {},
   "source": [
    "# volatile acidity"
   ]
  },
  {
   "cell_type": "code",
   "execution_count": null,
   "id": "7c53971e",
   "metadata": {},
   "outputs": [],
   "source": [
    "X_train_vol_cit = X_train.copy()\n",
    "X_train_vol_res = X_train.copy()\n",
    "X_train_vol_chl = X_train.copy()\n",
    "X_train_vol_fre = X_train.copy()\n",
    "X_train_vol_tot = X_train.copy()\n",
    "X_train_vol_pH = X_train.copy()\n",
    "X_train_vol_sul = X_train.copy()\n",
    "X_train_vol_alc = X_train.copy()"
   ]
  },
  {
   "cell_type": "markdown",
   "id": "8c63d4e6",
   "metadata": {},
   "source": [
    "# citric acid"
   ]
  },
  {
   "cell_type": "code",
   "execution_count": null,
   "id": "599f2bf4",
   "metadata": {},
   "outputs": [],
   "source": [
    "X_train_cit_res = X_train.copy()\n",
    "X_train_cit_chl = X_train.copy()\n",
    "X_train_cit_fre = X_train.copy()\n",
    "X_train_cit_tot = X_train.copy()\n",
    "X_train_cit_pH = X_train.copy()\n",
    "X_train_cit_sul = X_train.copy()\n",
    "X_train_cit_alc = X_train.copy()"
   ]
  },
  {
   "cell_type": "markdown",
   "id": "7aff17b0",
   "metadata": {},
   "source": [
    "# residual sugar"
   ]
  },
  {
   "cell_type": "code",
   "execution_count": null,
   "id": "819243bd",
   "metadata": {},
   "outputs": [],
   "source": [
    "X_train_res_chl = X_train.copy()\n",
    "X_train_res_fre = X_train.copy()\n",
    "X_train_res_tot = X_train.copy()\n",
    "X_train_res_pH = X_train.copy()\n",
    "X_train_res_sul = X_train.copy()\n",
    "X_train_res_alc = X_train.copy()"
   ]
  },
  {
   "cell_type": "markdown",
   "id": "cabe0948",
   "metadata": {},
   "source": [
    "# chlorides"
   ]
  },
  {
   "cell_type": "code",
   "execution_count": null,
   "id": "5417ca7d",
   "metadata": {},
   "outputs": [],
   "source": [
    "X_train_chl_fre = X_train.copy()\n",
    "X_train_chl_tot = X_train.copy()\n",
    "X_train_chl_pH = X_train.copy()\n",
    "X_train_chl_sul = X_train.copy()\n",
    "X_train_chl_alc = X_train.copy()"
   ]
  },
  {
   "cell_type": "markdown",
   "id": "6665f162",
   "metadata": {},
   "source": [
    "# free sulfur dioxide"
   ]
  },
  {
   "cell_type": "code",
   "execution_count": null,
   "id": "d6441d4c",
   "metadata": {},
   "outputs": [],
   "source": [
    "X_train_fre_tot = X_train.copy()\n",
    "X_train_fre_pH = X_train.copy()\n",
    "X_train_fre_sul = X_train.copy()\n",
    "X_train_fre_alc = X_train.copy()"
   ]
  },
  {
   "cell_type": "markdown",
   "id": "e24aa17e",
   "metadata": {},
   "source": [
    "# total sulfur dioxide"
   ]
  },
  {
   "cell_type": "code",
   "execution_count": null,
   "id": "af092be1",
   "metadata": {},
   "outputs": [],
   "source": [
    "X_train_tot_pH = X_train.copy()\n",
    "X_train_tot_sul = X_train.copy()\n",
    "X_train_tot_alc = X_train.copy()"
   ]
  },
  {
   "cell_type": "markdown",
   "id": "f0c98121",
   "metadata": {},
   "source": [
    "# pH, sulphates, alc"
   ]
  },
  {
   "cell_type": "code",
   "execution_count": null,
   "id": "bd038c85",
   "metadata": {},
   "outputs": [],
   "source": [
    "X_train_pH_sul = X_train.copy()\n",
    "X_train_pH_alc = X_train.copy()\n",
    "X_train_sul_alc = X_train.copy()"
   ]
  },
  {
   "cell_type": "code",
   "execution_count": null,
   "id": "167cc440",
   "metadata": {},
   "outputs": [],
   "source": [
    "X_train_vol_chl[\"sample1\"] = X_train[\"volatile acidity\"] / X_train[\"chlorides\"]\n",
    "\n",
    "ext_reg = ExtraTreesRegressor(random_state=42, n_jobs=-1)\n",
    "ext_reg.fit(X_train_vol_chl, y_train)\n",
    "\n",
    "ext_scores = cross_val_score(ext_reg, X_train_vol_chl, y_train, scoring = \"neg_mean_squared_error\", cv=10)\n",
    "ext_rmse_scores = np.sqrt(-ext_scores)\n",
    "display_scores_mean(ext_rmse_scores)"
   ]
  },
  {
   "cell_type": "code",
   "execution_count": null,
   "id": "9e31ea1b",
   "metadata": {},
   "outputs": [],
   "source": [
    "X_train_pH_sul[\"sample9\"] = X_train[\"pH\"] - X_train[\"sulphates\"]\n",
    "\n",
    "ext_reg = ExtraTreesRegressor(random_state=42, n_jobs=-1)\n",
    "ext_reg.fit(X_train_pH_sul, y_train)\n",
    "\n",
    "ext_scores = cross_val_score(ext_reg, X_train_pH_sul, y_train, scoring = \"neg_mean_squared_error\", cv=10)\n",
    "ext_rmse_scores = np.sqrt(-ext_scores)\n",
    "display_scores_mean(ext_rmse_scores)"
   ]
  },
  {
   "cell_type": "code",
   "execution_count": null,
   "id": "116a544e",
   "metadata": {},
   "outputs": [],
   "source": [
    "X_train_chl_pH[\"sample7\"] = X_train[\"chlorides\"] / X_train[\"pH\"]\n",
    "\n",
    "ext_reg = ExtraTreesRegressor(random_state=42, n_jobs=-1)\n",
    "ext_reg.fit(X_train_chl_pH, y_train)\n",
    "\n",
    "ext_scores = cross_val_score(ext_reg, X_train_chl_pH, y_train, scoring = \"neg_mean_squared_error\", cv=10)\n",
    "ext_rmse_scores = np.sqrt(-ext_scores)\n",
    "display_scores_mean(ext_rmse_scores)"
   ]
  },
  {
   "cell_type": "code",
   "execution_count": null,
   "id": "dcc791a1",
   "metadata": {},
   "outputs": [],
   "source": [
    "X_train_chl_tot[\"sample6\"] = X_train[\"chlorides\"] * X_train[\"total sulfur dioxide\"]\n",
    "\n",
    "ext_reg = ExtraTreesRegressor(random_state=42, n_jobs=-1)\n",
    "ext_reg.fit(X_train_chl_tot, y_train)\n",
    "\n",
    "ext_scores = cross_val_score(ext_reg, X_train_chl_tot, y_train, scoring = \"neg_mean_squared_error\", cv=10)\n",
    "ext_rmse_scores = np.sqrt(-ext_scores)\n",
    "display_scores_mean(ext_rmse_scores)"
   ]
  },
  {
   "cell_type": "code",
   "execution_count": null,
   "id": "9c30f508",
   "metadata": {},
   "outputs": [],
   "source": [
    "X_train_cit_chl[\"sample2\"] = X_train[\"citric acid\"] / X_train[\"chlorides\"]\n",
    "\n",
    "ext_reg = ExtraTreesRegressor(random_state=42, n_jobs=-1)\n",
    "ext_reg.fit(X_train_cit_chl, y_train)\n",
    "\n",
    "ext_scores = cross_val_score(ext_reg, X_train_cit_chl, y_train, scoring = \"neg_mean_squared_error\", cv=10)\n",
    "ext_rmse_scores = np.sqrt(-ext_scores)\n",
    "display_scores_mean(ext_rmse_scores)"
   ]
  },
  {
   "cell_type": "code",
   "execution_count": null,
   "id": "4a3ffcc7",
   "metadata": {},
   "outputs": [],
   "source": [
    "X_train_cit_sul[\"sample3\"] = X_train[\"citric acid\"] * X_train[\"sulphates\"]\n",
    "\n",
    "ext_reg = ExtraTreesRegressor(random_state=42, n_jobs=-1)\n",
    "ext_reg.fit(X_train_cit_sul, y_train)\n",
    "\n",
    "ext_scores = cross_val_score(ext_reg, X_train_cit_sul, y_train, scoring = \"neg_mean_squared_error\", cv=10)\n",
    "ext_rmse_scores = np.sqrt(-ext_scores)\n",
    "display_scores_mean(ext_rmse_scores)"
   ]
  },
  {
   "cell_type": "code",
   "execution_count": null,
   "id": "b2cf99e5",
   "metadata": {
    "scrolled": true
   },
   "outputs": [],
   "source": [
    "X_train_tot_pH[\"sample8\"] = X_train[\"total sulfur dioxide\"] * X_train[\"pH\"]\n",
    "\n",
    "ext_reg = ExtraTreesRegressor(random_state=42, n_jobs=-1)\n",
    "ext_reg.fit(X_train_tot_pH, y_train)\n",
    "\n",
    "ext_scores = cross_val_score(ext_reg, X_train_tot_pH, y_train, scoring = \"neg_mean_squared_error\", cv=10)\n",
    "ext_rmse_scores = np.sqrt(-ext_scores)\n",
    "display_scores_mean(ext_rmse_scores)"
   ]
  },
  {
   "cell_type": "code",
   "execution_count": null,
   "id": "ffdf0d02",
   "metadata": {},
   "outputs": [],
   "source": [
    "X_train_res_chl[\"sample4\"] = X_train[\"residual sugar\"] / X_train[\"chlorides\"]\n",
    "\n",
    "ext_reg = ExtraTreesRegressor(random_state=42, n_jobs=-1)\n",
    "ext_reg.fit(X_train_res_chl, y_train)\n",
    "\n",
    "ext_scores = cross_val_score(ext_reg, X_train_res_chl, y_train, scoring = \"neg_mean_squared_error\", cv=10)\n",
    "ext_rmse_scores = np.sqrt(-ext_scores)\n",
    "display_scores_mean(ext_rmse_scores)"
   ]
  },
  {
   "cell_type": "code",
   "execution_count": null,
   "id": "8d1e093c",
   "metadata": {},
   "outputs": [],
   "source": [
    "X_train_cit_pH[\"sample5\"] = X_train[\"citric acid\"] + X_train[\"pH\"]\n",
    "\n",
    "ext_reg = ExtraTreesRegressor(random_state=42, n_jobs=-1)\n",
    "ext_reg.fit(X_train_cit_pH, y_train)\n",
    "\n",
    "ext_scores = cross_val_score(ext_reg, X_train_cit_pH, y_train, scoring = \"neg_mean_squared_error\", cv=10)\n",
    "ext_rmse_scores = np.sqrt(-ext_scores)\n",
    "display_scores_mean(ext_rmse_scores)\n",
    "\n",
    "#뭔가 애매함..."
   ]
  },
  {
   "cell_type": "markdown",
   "id": "74a64681",
   "metadata": {},
   "source": [
    "이 위쪽은 의미있는 값들임"
   ]
  },
  {
   "cell_type": "markdown",
   "id": "33a930e4",
   "metadata": {},
   "source": [
    "## 특성 공학으로 만든 데이터를 훈련셋에 넣음"
   ]
  },
  {
   "cell_type": "code",
   "execution_count": 12,
   "id": "c95ae537",
   "metadata": {},
   "outputs": [
    {
     "name": "stdout",
     "output_type": "stream",
     "text": [
      "Mean: 0.5420422095160929\n"
     ]
    }
   ],
   "source": [
    "X_train_comb = X_train.copy()\n",
    "\n",
    "X_train_comb[\"sample1\"] = X_train[\"volatile acidity\"] / X_train[\"chlorides\"] #1\n",
    "X_train_comb[\"sample2\"] = X_train[\"citric acid\"] / X_train[\"chlorides\"] #5 \n",
    "X_train_comb[\"sample3\"] = X_train[\"citric acid\"] * X_train[\"sulphates\"] #6\n",
    "X_train_comb[\"sample4\"] = X_train[\"residual sugar\"] / X_train[\"chlorides\"] #8\n",
    "X_train_comb[\"sample5\"] = X_train[\"citric acid\"] + X_train[\"pH\"] #애매함. 근데 빼니까 값이 높아져서 넣는게 나음. #9\n",
    "X_train_comb[\"sample6\"] = X_train[\"chlorides\"] * X_train[\"total sulfur dioxide\"] #4\n",
    "X_train_comb[\"sample7\"] = X_train[\"chlorides\"] / X_train[\"pH\"] #3\n",
    "X_train_comb[\"sample8\"] = X_train[\"total sulfur dioxide\"] * X_train[\"pH\"] #7\n",
    "X_train_comb[\"sample9\"] = X_train[\"pH\"] - X_train[\"sulphates\"] #2\n",
    "\n",
    "# X_train_comb[\"sample11\"] = X_train_comb[\"sample1\"] - X_train_comb[\"sample6\"] #54485\n",
    "# X_train_comb[\"sample12\"] = X_train_comb[\"sample1\"] * X_train_comb[\"sample8\"] #54312\n",
    "# X_train_comb[\"sample13\"] = X_train_comb[\"sample2\"] * X_train_comb[\"sample4\"] #54358\n",
    "# X_train_comb[\"sample15\"] = X_train_comb[\"sample2\"] - X_train_comb[\"sample8\"] #54454\n",
    "# X_train_comb[\"sample16\"] = X_train_comb[\"sample3\"] + X_train_comb[\"sample8\"] #54430\n",
    "# X_train_comb[\"sample18\"] = X_train_comb[\"sample4\"] - X_train_comb[\"sample5\"] #54434\n",
    "X_train_comb[\"sample20\"] = X_train_comb[\"sample4\"] + X_train_comb[\"sample7\"] #54204\n",
    "# X_train_comb[\"sample21\"] = X_train_comb[\"sample5\"] + X_train_comb[\"sample8\"] #54422\n",
    "# X_train_comb[\"sample22\"] = X_train_comb[\"sample6\"] / X_train_comb[\"sample7\"] #54330\n",
    "# X_train_comb[\"sample23\"] = X_train_comb[\"sample7\"] + X_train_comb[\"sample8\"] #54343\n",
    "# X_train_comb[\"sample24\"] = X_train_comb[\"sample8\"] + X_train_comb[\"sample9\"] #54259\n",
    "\n",
    "ext_reg = ExtraTreesRegressor(random_state=42, n_jobs=-1)\n",
    "ext_reg.fit(X_train_comb, y_train)\n",
    "\n",
    "ext_scores = cross_val_score(ext_reg, X_train_comb, y_train, scoring = \"neg_mean_squared_error\", cv=10)\n",
    "ext_rmse_scores = np.sqrt(-ext_scores)\n",
    "display_scores_mean(ext_rmse_scores)"
   ]
  },
  {
   "cell_type": "markdown",
   "id": "0c7de98f",
   "metadata": {},
   "source": [
    "기본 특성 조합 값 : 0.5452912557773699\n",
    "\n",
    "20번째 샘플에서 가장 잘 나옴\n",
    "\n",
    "0.5420422095160929"
   ]
  },
  {
   "cell_type": "code",
   "execution_count": null,
   "id": "fb31bf27",
   "metadata": {
    "scrolled": false
   },
   "outputs": [],
   "source": [
    "ext_reg_test = ExtraTreesRegressor(random_state=0, n_jobs=-1)\n",
    "ext_reg_test.fit(X_train_comb, y_train)\n",
    "\n",
    "ext_scores_test = cross_val_score(ext_reg_test, X_train_comb, y_train, scoring = \"neg_mean_squared_error\", cv=10)\n",
    "past_rmse_scores = np.sqrt(-ext_scores_test)\n",
    "\n",
    "for x in range(1, 10000):\n",
    "    ext_reg_test = ExtraTreesRegressor(random_state=x, n_jobs=-1)\n",
    "    ext_reg_test.fit(X_train_comb, y_train)\n",
    "    \n",
    "    ext_scores_test = cross_val_score(ext_reg_test, X_train_comb, y_train, scoring = \"neg_mean_squared_error\", cv=10)\n",
    "#     ext_rmse_scores_test = np.sqrt(-ext_scores_test)\n",
    "    current_rmse_scores_test = np.sqrt(-ext_scores_test)\n",
    "\n",
    "    if current_rmse_scores_test.mean() < past_rmse_scores.mean():\n",
    "        past_rmse_scores = current_rmse_scores_test\n",
    "        print(f\"{x}번째 rmse값:{np.mean(past_rmse_scores)}\")\n",
    "        \n",
    "display_scores_mean(past_rmse_scores) # best random_state"
   ]
  },
  {
   "cell_type": "markdown",
   "id": "6316907a",
   "metadata": {},
   "source": [
    "**특성 조합 이후 rs값 추가해서 최종 결론 내리기!**"
   ]
  },
  {
   "cell_type": "code",
   "execution_count": 13,
   "id": "d1148ce4",
   "metadata": {},
   "outputs": [
    {
     "name": "stdout",
     "output_type": "stream",
     "text": [
      "Mean: 0.5416769289737556\n"
     ]
    }
   ],
   "source": [
    "ext_reg1 = ExtraTreesRegressor(random_state=610, n_jobs=-1)\n",
    "ext_reg1.fit(X_train_comb, y_train)\n",
    "    \n",
    "ext_scores1 = cross_val_score(ext_reg1, X_train_comb, y_train, scoring = \"neg_mean_squared_error\", cv=10)\n",
    "ext_rmse_scores1 = np.sqrt(-ext_scores1)\n",
    "\n",
    "display_scores_mean(ext_rmse_scores1)"
   ]
  },
  {
   "cell_type": "code",
   "execution_count": 14,
   "id": "a40bcbf6",
   "metadata": {},
   "outputs": [
    {
     "name": "stdout",
     "output_type": "stream",
     "text": [
      "Mean: 0.5402247641277131\n"
     ]
    }
   ],
   "source": [
    "ext_reg2 = ExtraTreesRegressor(random_state=2449, n_jobs=-1)\n",
    "ext_reg2.fit(X_train_comb, y_train)\n",
    "    \n",
    "ext_scores2 = cross_val_score(ext_reg2, X_train_comb, y_train, scoring = \"neg_mean_squared_error\", cv=10)\n",
    "ext_rmse_scores2 = np.sqrt(-ext_scores2)\n",
    "\n",
    "display_scores_mean(ext_rmse_scores2)"
   ]
  },
  {
   "cell_type": "code",
   "execution_count": 15,
   "id": "0b78dc5d",
   "metadata": {},
   "outputs": [
    {
     "name": "stdout",
     "output_type": "stream",
     "text": [
      "Mean: 0.5420422095160929\n"
     ]
    }
   ],
   "source": [
    "ext_reg3 = ExtraTreesRegressor(random_state=42, n_jobs=-1)\n",
    "ext_reg3.fit(X_train_comb, y_train)\n",
    "\n",
    "ext_scores3 = cross_val_score(ext_reg3, X_train_comb, y_train, scoring = \"neg_mean_squared_error\", cv=10)\n",
    "ext_rmse_scores3 = np.sqrt(-ext_scores3)\n",
    "\n",
    "display_scores_mean(ext_rmse_scores3)"
   ]
  },
  {
   "cell_type": "markdown",
   "id": "a63dd302",
   "metadata": {},
   "source": [
    "## Voting"
   ]
  },
  {
   "cell_type": "code",
   "execution_count": 16,
   "id": "2b56e82b",
   "metadata": {},
   "outputs": [
    {
     "name": "stdout",
     "output_type": "stream",
     "text": [
      "Mean: 0.5393481159091247\n"
     ]
    }
   ],
   "source": [
    "from sklearn.ensemble import VotingRegressor\n",
    "\n",
    "voting_reg = VotingRegressor(estimators=[('ext1', ext_reg1), ('ext2', ext_reg2), ('ext3', ext_reg3)])\n",
    "voting_reg.fit(X_train_comb, y_train)\n",
    "\n",
    "voting_scores = cross_val_score(voting_reg, X_train_comb, y_train, scoring = \"neg_mean_squared_error\", cv=10)\n",
    "voting_rmse_scores = np.sqrt(-voting_scores)\n",
    "\n",
    "display_scores_mean(voting_rmse_scores)"
   ]
  },
  {
   "cell_type": "markdown",
   "id": "a2b11020",
   "metadata": {},
   "source": [
    "# Result"
   ]
  },
  {
   "cell_type": "code",
   "execution_count": 18,
   "id": "747d0b2a",
   "metadata": {},
   "outputs": [
    {
     "name": "stdout",
     "output_type": "stream",
     "text": [
      "Mean: 0.5393481159091247\n"
     ]
    }
   ],
   "source": [
    "voting_scores = cross_val_score(voting_reg, X_train_comb, y_train, scoring = \"neg_mean_squared_error\", cv=10)\n",
    "voting_rmse_scores = np.sqrt(-voting_scores)\n",
    "\n",
    "display_scores_mean(voting_rmse_scores)"
   ]
  }
 ],
 "metadata": {
  "kernelspec": {
   "display_name": "Python 3 (ipykernel)",
   "language": "python",
   "name": "python3"
  },
  "language_info": {
   "codemirror_mode": {
    "name": "ipython",
    "version": 3
   },
   "file_extension": ".py",
   "mimetype": "text/x-python",
   "name": "python",
   "nbconvert_exporter": "python",
   "pygments_lexer": "ipython3",
   "version": "3.8.12"
  }
 },
 "nbformat": 4,
 "nbformat_minor": 5
}
