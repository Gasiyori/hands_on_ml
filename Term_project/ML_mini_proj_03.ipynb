{
 "cells": [
  {
   "cell_type": "code",
   "execution_count": 1,
   "id": "45e46ee0",
   "metadata": {},
   "outputs": [],
   "source": [
    "import numpy as np\n",
    "import pandas as pd\n",
    "\n",
    "input_file = \"kc_house_data.csv\"\n",
    "df = pd.read_csv(input_file)"
   ]
  },
  {
   "cell_type": "code",
   "execution_count": 2,
   "id": "049b7723",
   "metadata": {},
   "outputs": [],
   "source": [
    "def display_scores(scores):\n",
    "    print(\"Scores:\", scores)\n",
    "    print(\"Mean:\", scores.mean())\n",
    "    print(\"Standard deviation:\", scores.std())\n",
    "    \n",
    "def display_scores_mean(scores):\n",
    "    print(\"Mean:\", scores.mean())"
   ]
  },
  {
   "cell_type": "code",
   "execution_count": 3,
   "id": "7fcceb1d",
   "metadata": {
    "scrolled": true
   },
   "outputs": [
    {
     "name": "stdout",
     "output_type": "stream",
     "text": [
      "<class 'pandas.core.frame.DataFrame'>\n",
      "RangeIndex: 21613 entries, 0 to 21612\n",
      "Data columns (total 21 columns):\n",
      " #   Column         Non-Null Count  Dtype  \n",
      "---  ------         --------------  -----  \n",
      " 0   id             21613 non-null  int64  \n",
      " 1   date           21613 non-null  object \n",
      " 2   price          21613 non-null  float64\n",
      " 3   bedrooms       21613 non-null  int64  \n",
      " 4   bathrooms      21613 non-null  float64\n",
      " 5   sqft_living    21613 non-null  int64  \n",
      " 6   sqft_lot       21613 non-null  int64  \n",
      " 7   floors         21613 non-null  float64\n",
      " 8   waterfront     21613 non-null  int64  \n",
      " 9   view           21613 non-null  int64  \n",
      " 10  condition      21613 non-null  int64  \n",
      " 11  grade          21613 non-null  int64  \n",
      " 12  sqft_above     21613 non-null  int64  \n",
      " 13  sqft_basement  21613 non-null  int64  \n",
      " 14  yr_built       21613 non-null  int64  \n",
      " 15  yr_renovated   21613 non-null  int64  \n",
      " 16  zipcode        21613 non-null  int64  \n",
      " 17  lat            21613 non-null  float64\n",
      " 18  long           21613 non-null  float64\n",
      " 19  sqft_living15  21613 non-null  int64  \n",
      " 20  sqft_lot15     21613 non-null  int64  \n",
      "dtypes: float64(5), int64(15), object(1)\n",
      "memory usage: 3.5+ MB\n"
     ]
    }
   ],
   "source": [
    "df.info()"
   ]
  },
  {
   "cell_type": "markdown",
   "id": "d5d15e84",
   "metadata": {},
   "source": [
    "**특성 목록**\n",
    "\n",
    "0. ID\n",
    "1. 거래 날짜\n",
    "2. 거래 가격 (레이블로 사용될 예정)\n",
    "3. 침실 수\n",
    "4. 욕실 수\n",
    "5. 내부 면적\n",
    "6. 땅 면적\n",
    "7. 층수\n",
    "8. 해변 조망\n",
    "9. 경관\n",
    "10. 상태\n",
    "11. 구조 설계\n",
    "12. 위층 면적\n",
    "13. 지하 면적\n",
    "14. 건축 연도\n",
    "15. 증축 연도\n",
    "16. 우편 주소\n",
    "17. 위도\n",
    "18. 경도\n",
    "19. 주위 15가구 내부 면적\n",
    "20. 주위 15가구 외부 면적"
   ]
  },
  {
   "cell_type": "markdown",
   "id": "20c77027",
   "metadata": {},
   "source": [
    "**날짜를 숫자로 변환**"
   ]
  },
  {
   "cell_type": "code",
   "execution_count": 4,
   "id": "c92b8155",
   "metadata": {},
   "outputs": [],
   "source": [
    "df['date']=  pd.to_datetime(df['date'])\n",
    "df['date'] = df['date'].apply(lambda x: x.strftime('%Y%m%d'))\n",
    "df[\"date\"] = df[\"date\"].astype('int64')"
   ]
  },
  {
   "cell_type": "code",
   "execution_count": 5,
   "id": "428f58ac",
   "metadata": {},
   "outputs": [
    {
     "data": {
      "text/plain": [
       "price            1.000000\n",
       "sqft_living      0.702035\n",
       "grade            0.667434\n",
       "sqft_above       0.605567\n",
       "sqft_living15    0.585379\n",
       "bathrooms        0.525138\n",
       "view             0.397293\n",
       "sqft_basement    0.323816\n",
       "bedrooms         0.308350\n",
       "lat              0.307003\n",
       "waterfront       0.266369\n",
       "floors           0.256794\n",
       "yr_renovated     0.126434\n",
       "sqft_lot         0.089661\n",
       "sqft_lot15       0.082447\n",
       "yr_built         0.054012\n",
       "condition        0.036362\n",
       "long             0.021626\n",
       "date             0.003033\n",
       "id              -0.016762\n",
       "zipcode         -0.053203\n",
       "Name: price, dtype: float64"
      ]
     },
     "execution_count": 5,
     "metadata": {},
     "output_type": "execute_result"
    }
   ],
   "source": [
    "corr_matrix = df.corr()\n",
    "corr_matrix[\"price\"].sort_values(ascending=False)"
   ]
  },
  {
   "cell_type": "code",
   "execution_count": 6,
   "id": "b4ee74a1",
   "metadata": {},
   "outputs": [],
   "source": [
    "x_train = df.drop([\"id\", \"yr_built\", \"price\", \"bedrooms\", \"bathrooms\", \"floors\", \"sqft_basement\"], axis=1)\n",
    "y_labels = df[\"price\"].copy()"
   ]
  },
  {
   "cell_type": "code",
   "execution_count": 7,
   "id": "01cb1c45",
   "metadata": {},
   "outputs": [
    {
     "name": "stdout",
     "output_type": "stream",
     "text": [
      "<class 'pandas.core.frame.DataFrame'>\n",
      "RangeIndex: 21613 entries, 0 to 21612\n",
      "Data columns (total 14 columns):\n",
      " #   Column         Non-Null Count  Dtype  \n",
      "---  ------         --------------  -----  \n",
      " 0   date           21613 non-null  int64  \n",
      " 1   sqft_living    21613 non-null  int64  \n",
      " 2   sqft_lot       21613 non-null  int64  \n",
      " 3   waterfront     21613 non-null  int64  \n",
      " 4   view           21613 non-null  int64  \n",
      " 5   condition      21613 non-null  int64  \n",
      " 6   grade          21613 non-null  int64  \n",
      " 7   sqft_above     21613 non-null  int64  \n",
      " 8   yr_renovated   21613 non-null  int64  \n",
      " 9   zipcode        21613 non-null  int64  \n",
      " 10  lat            21613 non-null  float64\n",
      " 11  long           21613 non-null  float64\n",
      " 12  sqft_living15  21613 non-null  int64  \n",
      " 13  sqft_lot15     21613 non-null  int64  \n",
      "dtypes: float64(2), int64(12)\n",
      "memory usage: 2.3 MB\n"
     ]
    }
   ],
   "source": [
    "x_train.info()"
   ]
  },
  {
   "cell_type": "markdown",
   "id": "a4c9533c",
   "metadata": {},
   "source": [
    "## 랜덤 포레스트 회귀"
   ]
  },
  {
   "cell_type": "code",
   "execution_count": 8,
   "id": "16b02166",
   "metadata": {},
   "outputs": [
    {
     "name": "stdout",
     "output_type": "stream",
     "text": [
      "Scores: [132325.6334198  136584.65242584 113944.04790517 132106.87028976\n",
      " 109301.75752643 131968.56450518 139441.28049103 116204.74661956\n",
      " 121386.55033387 131130.62579354]\n",
      "Mean: 126439.47293101896\n",
      "Standard deviation: 9856.136662276902\n"
     ]
    }
   ],
   "source": [
    "from sklearn.model_selection import cross_val_score\n",
    "from sklearn.ensemble import RandomForestRegressor\n",
    "from sklearn.ensemble import ExtraTreesRegressor\n",
    "\n",
    "rf_reg = RandomForestRegressor(random_state = 42, n_jobs = -1)\n",
    "rf_reg.fit(x_train, y_labels)\n",
    "\n",
    "rf_scores = cross_val_score(rf_reg, x_train, y_labels, scoring = \"neg_mean_squared_error\", cv=10)\n",
    "rf_rmse_scores = np.sqrt(-rf_scores)\n",
    "display_scores(rf_rmse_scores)"
   ]
  },
  {
   "cell_type": "code",
   "execution_count": 9,
   "id": "9dddd5d7",
   "metadata": {},
   "outputs": [
    {
     "name": "stdout",
     "output_type": "stream",
     "text": [
      "Scores: [122402.30361699 139164.13438586 112306.12529039 129863.77089984\n",
      " 109164.01022771 137327.77160125 132007.83034109 116527.01399854\n",
      " 123423.93831584 129394.0969103 ]\n",
      "Mean: 125158.09955877978\n",
      "Standard deviation: 9681.721220342968\n"
     ]
    }
   ],
   "source": [
    "rf_reg = ExtraTreesRegressor(random_state = 42, n_jobs = -1)\n",
    "rf_reg.fit(x_train, y_labels)\n",
    "\n",
    "rf_scores = cross_val_score(rf_reg, x_train, y_labels, scoring = \"neg_mean_squared_error\", cv=10)\n",
    "rf_rmse_scores = np.sqrt(-rf_scores)\n",
    "display_scores(rf_rmse_scores)"
   ]
  },
  {
   "cell_type": "code",
   "execution_count": 10,
   "id": "92b8af09",
   "metadata": {
    "scrolled": true
   },
   "outputs": [
    {
     "data": {
      "text/plain": [
       "<BarContainer object of 14 artists>"
      ]
     },
     "execution_count": 10,
     "metadata": {},
     "output_type": "execute_result"
    },
    {
     "data": {
      "image/png": "[encoded data removed]",
      "text/plain": [
       "<Figure size 432x288 with 1 Axes>"
      ]
     },
     "metadata": {
      "needs_background": "light"
     },
     "output_type": "display_data"
    }
   ],
   "source": [
    "from sklearn.model_selection import train_test_split\n",
    "import matplotlib.pyplot as plt\n",
    "\n",
    "sorted_idx = rf_reg.feature_importances_.argsort()\n",
    "\n",
    "plt.barh(x_train.columns[sorted_idx], rf_reg.feature_importances_[sorted_idx])"
   ]
  },
  {
   "cell_type": "markdown",
   "id": "c8b37f46",
   "metadata": {},
   "source": [
    "변화값이 큰 10개의 특성들만 조합해봄\n",
    "\n",
    "1. lat\n",
    "2. long\n",
    "3. waterfront\n",
    "4. grade\n",
    "5. sqft_living\n",
    "6. view\n",
    "7. zipcode\n",
    "8. date\n",
    "9. condition\n",
    "10. sqft_living15"
   ]
  },
  {
   "cell_type": "markdown",
   "id": "701a3277",
   "metadata": {},
   "source": [
    "# x_train_lat"
   ]
  },
  {
   "cell_type": "code",
   "execution_count": 11,
   "id": "f0cc47fd",
   "metadata": {},
   "outputs": [],
   "source": [
    "from sklearn.model_selection import cross_val_score\n",
    "from sklearn.ensemble import RandomForestRegressor"
   ]
  },
  {
   "cell_type": "code",
   "execution_count": 12,
   "id": "646b4590",
   "metadata": {},
   "outputs": [],
   "source": [
    "x_train_lat_long = x_train.copy()\n",
    "x_train_lat_waterfront = x_train.copy()\n",
    "x_train_lat_grade = x_train.copy()\n",
    "x_train_lat_sqft_living = x_train.copy()\n",
    "x_train_lat_view = x_train.copy()\n",
    "x_train_lat_zipcode = x_train.copy()\n",
    "x_train_lat_date = x_train.copy()\n",
    "x_train_lat_condition = x_train.copy()\n",
    "x_train_lat_sqft_living15 = x_train.copy()"
   ]
  },
  {
   "cell_type": "markdown",
   "id": "72bec027",
   "metadata": {},
   "source": [
    "**lat_long**"
   ]
  },
  {
   "cell_type": "code",
   "execution_count": 13,
   "id": "bb0e0c36",
   "metadata": {},
   "outputs": [],
   "source": [
    "x_train_lat_long[\"lat_long\"] = x_train.lat / x_train.long #mean값이 가장 낮게 나오는 특성 조합"
   ]
  },
  {
   "cell_type": "code",
   "execution_count": 14,
   "id": "482f6c73",
   "metadata": {},
   "outputs": [],
   "source": [
    "# rf_reg = ExtraTreesRegressor(random_state = 42, n_jobs = -1)\n",
    "# rf_reg.fit(x_train_lat_long, y_labels)\n",
    "\n",
    "# rf_scores = cross_val_score(rf_reg, x_train_lat_long, y_labels, scoring = \"neg_mean_squared_error\", cv=10)\n",
    "# rf_rmse_scores = np.sqrt(-rf_scores)\n",
    "# display_scores(rf_rmse_scores)"
   ]
  },
  {
   "cell_type": "markdown",
   "id": "9cf15a3c",
   "metadata": {},
   "source": [
    "**lat_waterfront**"
   ]
  },
  {
   "cell_type": "code",
   "execution_count": 15,
   "id": "d00a1d91",
   "metadata": {},
   "outputs": [],
   "source": [
    "x_train_lat_waterfront[\"lat_waterfront\"] = x_train.lat + x_train.waterfront\n",
    "\n",
    "# rf_reg = ExtraTreesRegressor(random_state = 42, n_jobs = -1)\n",
    "# rf_reg.fit(x_train_lat_waterfront, y_labels)\n",
    "\n",
    "# rf_scores = cross_val_score(rf_reg, x_train_lat_waterfront, y_labels, scoring = \"neg_mean_squared_error\", cv=10)\n",
    "# rf_rmse_scores = np.sqrt(-rf_scores)\n",
    "# display_scores(rf_rmse_scores)"
   ]
  },
  {
   "cell_type": "markdown",
   "id": "a8dba106",
   "metadata": {},
   "source": [
    "**lat_grade**"
   ]
  },
  {
   "cell_type": "code",
   "execution_count": 16,
   "id": "ee3b3412",
   "metadata": {},
   "outputs": [],
   "source": [
    "x_train_lat_grade[\"lat_grade\"] = x_train.lat - x_train.grade\n",
    "\n",
    "# rf_reg = ExtraTreesRegressor(random_state = 42, n_jobs = -1)\n",
    "# rf_reg.fit(x_train_lat_grade, y_labels)\n",
    "\n",
    "# rf_scores = cross_val_score(rf_reg, x_train_lat_grade, y_labels, scoring = \"neg_mean_squared_error\", cv=10)\n",
    "# rf_rmse_scores = np.sqrt(-rf_scores)\n",
    "# display_scores(rf_rmse_scores)"
   ]
  },
  {
   "cell_type": "markdown",
   "id": "0d70851f",
   "metadata": {},
   "source": [
    "**lat_view**"
   ]
  },
  {
   "cell_type": "code",
   "execution_count": 17,
   "id": "30a371a7",
   "metadata": {
    "scrolled": true
   },
   "outputs": [],
   "source": [
    "x_train_lat_zipcode[\"lat_view\"] = x_train.lat - x_train.view\n",
    "\n",
    "# rf_reg = ExtraTreesRegressor(random_state = 42, n_jobs = -1)\n",
    "# rf_reg.fit(x_train_lat_view, y_labels)\n",
    "\n",
    "# rf_scores = cross_val_score(rf_reg, x_train_lat_view, y_labels, scoring = \"neg_mean_squared_error\", cv=10)\n",
    "# rf_rmse_scores = np.sqrt(-rf_scores)\n",
    "# display_scores(rf_rmse_scores)"
   ]
  },
  {
   "cell_type": "markdown",
   "id": "88def496",
   "metadata": {},
   "source": [
    "**x_train_lat_zipcode**"
   ]
  },
  {
   "cell_type": "code",
   "execution_count": 18,
   "id": "bf19ef0c",
   "metadata": {},
   "outputs": [],
   "source": [
    "x_train_lat_zipcode[\"lat_zipcode\"] = x_train.lat / x_train.zipcode\n",
    "\n",
    "# rf_reg = ExtraTreesRegressor(random_state = 42, n_jobs = -1)\n",
    "# rf_reg.fit(x_train_lat_zipcode, y_labels)\n",
    "\n",
    "# rf_scores = cross_val_score(rf_reg, x_train_lat_zipcode, y_labels, scoring = \"neg_mean_squared_error\", cv=10)\n",
    "# rf_rmse_scores = np.sqrt(-rf_scores)\n",
    "# display_scores(rf_rmse_scores)"
   ]
  },
  {
   "cell_type": "markdown",
   "id": "1c742cdc",
   "metadata": {},
   "source": [
    "**x_train_lat_date**"
   ]
  },
  {
   "cell_type": "code",
   "execution_count": 19,
   "id": "dfc0967e",
   "metadata": {},
   "outputs": [],
   "source": [
    "x_train_lat_date[\"lat_date\"] = x_train.lat * x_train.date\n",
    "\n",
    "# rf_reg = ExtraTreesRegressor(random_state = 42, n_jobs = -1)\n",
    "# rf_reg.fit(x_train_lat_date, y_labels)\n",
    "\n",
    "# rf_scores = cross_val_score(rf_reg, x_train_lat_date, y_labels, scoring = \"neg_mean_squared_error\", cv=10)\n",
    "# rf_rmse_scores = np.sqrt(-rf_scores)\n",
    "# display_scores(rf_rmse_scores)"
   ]
  },
  {
   "cell_type": "markdown",
   "id": "6d61b774",
   "metadata": {},
   "source": [
    "**x_train_lat_condition**"
   ]
  },
  {
   "cell_type": "code",
   "execution_count": 20,
   "id": "326eb089",
   "metadata": {},
   "outputs": [],
   "source": [
    "x_train_lat_condition[\"lat_condition\"] = x_train.lat - x_train.condition\n",
    "\n",
    "# rf_reg = ExtraTreesRegressor(random_state = 42, n_jobs = -1)\n",
    "# rf_reg.fit(x_train_lat_condition, y_labels)\n",
    "\n",
    "# rf_scores = cross_val_score(rf_reg, x_train_lat_condition, y_labels, scoring = \"neg_mean_squared_error\", cv=10)\n",
    "# rf_rmse_scores = np.sqrt(-rf_scores)\n",
    "# display_scores(rf_rmse_scores)"
   ]
  },
  {
   "cell_type": "markdown",
   "id": "7b064d0d",
   "metadata": {},
   "source": [
    "**x_train_lat_sqft_living15**"
   ]
  },
  {
   "cell_type": "code",
   "execution_count": 21,
   "id": "3c2d04c2",
   "metadata": {},
   "outputs": [],
   "source": [
    "x_train_lat_sqft_living15[\"lat_sqft_living15\"] = x_train.lat * x_train.sqft_living15\n",
    "\n",
    "# rf_reg = ExtraTreesRegressor(random_state = 42, n_jobs = -1)\n",
    "# rf_reg.fit(x_train_lat_sqft_living15, y_labels)\n",
    "\n",
    "# rf_scores = cross_val_score(rf_reg, x_train_lat_sqft_living15, y_labels, scoring = \"neg_mean_squared_error\", cv=10)\n",
    "# rf_rmse_scores = np.sqrt(-rf_scores)\n",
    "# display_scores(rf_rmse_scores)"
   ]
  },
  {
   "cell_type": "markdown",
   "id": "c010a6f6",
   "metadata": {},
   "source": [
    "# x_train_long"
   ]
  },
  {
   "cell_type": "code",
   "execution_count": 22,
   "id": "c01c9018",
   "metadata": {},
   "outputs": [],
   "source": [
    "x_train_long_waterfront = x_train.copy()\n",
    "x_train_long_grade = x_train.copy()\n",
    "x_train_long_sqft_living = x_train.copy()\n",
    "x_train_long_view = x_train.copy()\n",
    "x_train_long_zipcode = x_train.copy()\n",
    "x_train_long_date = x_train.copy()\n",
    "x_train_long_condition = x_train.copy()\n",
    "x_train_long_sqft_living15 = x_train.copy()"
   ]
  },
  {
   "cell_type": "markdown",
   "id": "f48cdcb7",
   "metadata": {},
   "source": [
    "**x_train_long_waterfront**"
   ]
  },
  {
   "cell_type": "code",
   "execution_count": 23,
   "id": "8aa7cb8c",
   "metadata": {},
   "outputs": [],
   "source": [
    "x_train_long_waterfront[\"long_waterfront\"] = x_train.long - x_train.waterfront\n",
    "\n",
    "# rf_reg = ExtraTreesRegressor(random_state = 42, n_jobs = -1)\n",
    "# rf_reg.fit(x_train_long_waterfront, y_labels)\n",
    "\n",
    "# rf_scores = cross_val_score(rf_reg, x_train_long_waterfront, y_labels, scoring = \"neg_mean_squared_error\", cv=10)\n",
    "# rf_rmse_scores = np.sqrt(-rf_scores)\n",
    "# display_scores(rf_rmse_scores)"
   ]
  },
  {
   "cell_type": "markdown",
   "id": "e306fc75",
   "metadata": {},
   "source": [
    "**x_train_long_grade**"
   ]
  },
  {
   "cell_type": "code",
   "execution_count": 24,
   "id": "18c13b4f",
   "metadata": {},
   "outputs": [],
   "source": [
    "x_train_long_grade[\"long_grade\"] = x_train.long - x_train.grade\n",
    "\n",
    "# rf_reg = ExtraTreesRegressor(random_state = 42, n_jobs = -1)\n",
    "# rf_reg.fit(x_train_long_grade, y_labels)\n",
    "\n",
    "# rf_scores = cross_val_score(rf_reg, x_train_long_grade, y_labels, scoring = \"neg_mean_squared_error\", cv=10)\n",
    "# rf_rmse_scores = np.sqrt(-rf_scores)\n",
    "# display_scores(rf_rmse_scores)"
   ]
  },
  {
   "cell_type": "markdown",
   "id": "3b96ddc3",
   "metadata": {},
   "source": [
    "**x_train_long_sqft_living**"
   ]
  },
  {
   "cell_type": "code",
   "execution_count": 25,
   "id": "1c492841",
   "metadata": {},
   "outputs": [],
   "source": [
    "x_train_long_sqft_living[\"long_sqft_living\"] = x_train.long / x_train.sqft_living\n",
    "\n",
    "# rf_reg = ExtraTreesRegressor(random_state = 42, n_jobs = -1)\n",
    "# rf_reg.fit(x_train_long_sqft_living, y_labels)\n",
    "\n",
    "# rf_scores = cross_val_score(rf_reg, x_train_long_sqft_living, y_labels, scoring = \"neg_mean_squared_error\", cv=10)\n",
    "# rf_rmse_scores = np.sqrt(-rf_scores)\n",
    "# display_scores(rf_rmse_scores)"
   ]
  },
  {
   "cell_type": "markdown",
   "id": "f79440f9",
   "metadata": {},
   "source": [
    "**x_train_long_view**"
   ]
  },
  {
   "cell_type": "code",
   "execution_count": 26,
   "id": "e54f74b0",
   "metadata": {},
   "outputs": [],
   "source": [
    "x_train_long_view[\"long_view\"] = x_train.view / x_train.long\n",
    "\n",
    "# rf_reg = ExtraTreesRegressor(random_state = 42, n_jobs = -1)\n",
    "# rf_reg.fit(x_train_long_view, y_labels)\n",
    "\n",
    "# rf_scores = cross_val_score(rf_reg, x_train_long_view, y_labels, scoring = \"neg_mean_squared_error\", cv=10)\n",
    "# rf_rmse_scores = np.sqrt(-rf_scores)\n",
    "# display_scores(rf_rmse_scores)"
   ]
  },
  {
   "cell_type": "markdown",
   "id": "e86bb7ac",
   "metadata": {},
   "source": [
    "**x_train_long_zipcode**"
   ]
  },
  {
   "cell_type": "code",
   "execution_count": 27,
   "id": "f3ca4a5a",
   "metadata": {},
   "outputs": [],
   "source": [
    "x_train_long_zipcode[\"long_zipcode\"] = x_train.long / x_train.zipcode\n",
    "\n",
    "# rf_reg = ExtraTreesRegressor(random_state = 42, n_jobs = -1)\n",
    "# rf_reg.fit(x_train_long_zipcode, y_labels)\n",
    "\n",
    "# rf_scores = cross_val_score(rf_reg, x_train_long_zipcode, y_labels, scoring = \"neg_mean_squared_error\", cv=10)\n",
    "# rf_rmse_scores = np.sqrt(-rf_scores)\n",
    "# display_scores(rf_rmse_scores)"
   ]
  },
  {
   "cell_type": "markdown",
   "id": "4b5cf01b",
   "metadata": {},
   "source": [
    "**x_train_long_date**"
   ]
  },
  {
   "cell_type": "code",
   "execution_count": 28,
   "id": "70a6e42a",
   "metadata": {},
   "outputs": [],
   "source": [
    "x_train_long_date[\"long_date\"] = x_train.long * x_train.date\n",
    "\n",
    "# rf_reg = ExtraTreesRegressor(random_state = 42, n_jobs = -1)\n",
    "# rf_reg.fit(x_train_long_date, y_labels)\n",
    "\n",
    "# rf_scores = cross_val_score(rf_reg, x_train_long_date, y_labels, scoring = \"neg_mean_squared_error\", cv=10)\n",
    "# rf_rmse_scores = np.sqrt(-rf_scores)\n",
    "# display_scores(rf_rmse_scores)"
   ]
  },
  {
   "cell_type": "markdown",
   "id": "ba40d3bb",
   "metadata": {},
   "source": [
    "**x_train_long_condition**"
   ]
  },
  {
   "cell_type": "code",
   "execution_count": 29,
   "id": "53352bbf",
   "metadata": {},
   "outputs": [],
   "source": [
    "x_train_long_condition[\"long_condition\"] = x_train.long / x_train.condition\n",
    "\n",
    "# rf_reg = ExtraTreesRegressor(random_state = 42, n_jobs = -1)\n",
    "# rf_reg.fit(x_train_long_condition, y_labels)\n",
    "\n",
    "# rf_scores = cross_val_score(rf_reg, x_train_long_condition, y_labels, scoring = \"neg_mean_squared_error\", cv=10)\n",
    "# rf_rmse_scores = np.sqrt(-rf_scores)\n",
    "# display_scores(rf_rmse_scores)"
   ]
  },
  {
   "cell_type": "markdown",
   "id": "4bd8f054",
   "metadata": {},
   "source": [
    "**x_train_long_sqft_living15**"
   ]
  },
  {
   "cell_type": "code",
   "execution_count": 30,
   "id": "ec4d112b",
   "metadata": {},
   "outputs": [],
   "source": [
    "x_train_long_sqft_living15[\"long_sqft_living15\"] = x_train.long / x_train.sqft_living15\n",
    "\n",
    "# rf_reg = ExtraTreesRegressor(random_state = 42, n_jobs = -1)\n",
    "# rf_reg.fit(x_train_long_sqft_living15, y_labels)\n",
    "\n",
    "# rf_scores = cross_val_score(rf_reg, x_train_long_sqft_living15, y_labels, scoring = \"neg_mean_squared_error\", cv=10)\n",
    "# rf_rmse_scores = np.sqrt(-rf_scores)\n",
    "# display_scores(rf_rmse_scores)"
   ]
  },
  {
   "cell_type": "markdown",
   "id": "038d4c4a",
   "metadata": {},
   "source": [
    "# x_train_waterfront"
   ]
  },
  {
   "cell_type": "code",
   "execution_count": 31,
   "id": "41227cdb",
   "metadata": {},
   "outputs": [],
   "source": [
    "x_train_waterfront_grade = x_train.copy()\n",
    "x_train_waterfront_sqft_living = x_train.copy()\n",
    "x_train_waterfront_view = x_train.copy()\n",
    "x_train_waterfront_zipcode = x_train.copy()\n",
    "x_train_waterfront_date = x_train.copy()\n",
    "x_train_waterfront_condition = x_train.copy()\n",
    "x_train_waterfront_sqft_living15 = x_train.copy()"
   ]
  },
  {
   "cell_type": "markdown",
   "id": "f9f0bec7",
   "metadata": {},
   "source": [
    "**x_train_waterfront_grade**"
   ]
  },
  {
   "cell_type": "code",
   "execution_count": 32,
   "id": "8a3be92d",
   "metadata": {},
   "outputs": [],
   "source": [
    "x_train_waterfront_grade[\"waterfront_grade\"] = x_train.waterfront / x_train.grade\n",
    "\n",
    "# rf_reg = ExtraTreesRegressor(random_state = 42, n_jobs = -1)\n",
    "# rf_reg.fit(x_train_waterfront_grade, y_labels)\n",
    "\n",
    "# rf_scores = cross_val_score(rf_reg, x_train_waterfront_grade, y_labels, scoring = \"neg_mean_squared_error\", cv=10)\n",
    "# rf_rmse_scores = np.sqrt(-rf_scores)\n",
    "# display_scores(rf_rmse_scores)"
   ]
  },
  {
   "cell_type": "markdown",
   "id": "bbe5b26e",
   "metadata": {},
   "source": [
    "**x_train_waterfront_sqft_living**"
   ]
  },
  {
   "cell_type": "code",
   "execution_count": 33,
   "id": "c92dee71",
   "metadata": {},
   "outputs": [],
   "source": [
    "x_train_waterfront_sqft_living[\"waterfront_sqft_living\"] = x_train.waterfront / x_train.sqft_living\n",
    "\n",
    "# rf_reg = ExtraTreesRegressor(random_state = 42, n_jobs = -1)\n",
    "# rf_reg.fit(x_train_waterfront_sqft_living, y_labels)\n",
    "\n",
    "# rf_scores = cross_val_score(rf_reg, x_train_waterfront_sqft_living, y_labels, scoring = \"neg_mean_squared_error\", cv=10)\n",
    "# rf_rmse_scores = np.sqrt(-rf_scores)\n",
    "# display_scores(rf_rmse_scores)"
   ]
  },
  {
   "cell_type": "markdown",
   "id": "fc98f223",
   "metadata": {},
   "source": [
    "**x_train_waterfront_view**"
   ]
  },
  {
   "cell_type": "code",
   "execution_count": 34,
   "id": "df0ae7fb",
   "metadata": {},
   "outputs": [],
   "source": [
    "x_train_waterfront_view[\"waterfront_view\"] = x_train.waterfront * x_train.view\n",
    "\n",
    "# rf_reg = ExtraTreesRegressor(random_state = 42, n_jobs = -1)\n",
    "# rf_reg.fit(x_train_waterfront_view, y_labels)\n",
    "\n",
    "# rf_scores = cross_val_score(rf_reg, x_train_waterfront_view, y_labels, scoring = \"neg_mean_squared_error\", cv=10)\n",
    "# rf_rmse_scores = np.sqrt(-rf_scores)\n",
    "# display_scores(rf_rmse_scores)"
   ]
  },
  {
   "cell_type": "markdown",
   "id": "290d1348",
   "metadata": {},
   "source": [
    "**x_train_waterfront_zipcode**"
   ]
  },
  {
   "cell_type": "code",
   "execution_count": 35,
   "id": "5dc5fbba",
   "metadata": {},
   "outputs": [],
   "source": [
    "x_train_waterfront_zipcode[\"waterfront_zipcode\"] = x_train.waterfront + x_train.zipcode\n",
    "\n",
    "# rf_reg = ExtraTreesRegressor(random_state = 42, n_jobs = -1)\n",
    "# rf_reg.fit(x_train_waterfront_zipcode, y_labels)\n",
    "\n",
    "# rf_scores = cross_val_score(rf_reg, x_train_waterfront_zipcode, y_labels, scoring = \"neg_mean_squared_error\", cv=10)\n",
    "# rf_rmse_scores = np.sqrt(-rf_scores)\n",
    "# display_scores(rf_rmse_scores)"
   ]
  },
  {
   "cell_type": "markdown",
   "id": "f6f6a545",
   "metadata": {},
   "source": [
    "**x_train_waterfront_date**"
   ]
  },
  {
   "cell_type": "code",
   "execution_count": 36,
   "id": "24293657",
   "metadata": {},
   "outputs": [],
   "source": [
    "x_train_waterfront_date[\"waterfront_date\"] = x_train.waterfront - x_train.date\n",
    "\n",
    "# rf_reg = ExtraTreesRegressor(random_state = 42, n_jobs = -1)\n",
    "# rf_reg.fit(x_train_waterfront_date, y_labels)\n",
    "\n",
    "# rf_scores = cross_val_score(rf_reg, x_train_waterfront_date, y_labels, scoring = \"neg_mean_squared_error\", cv=10)\n",
    "# rf_rmse_scores = np.sqrt(-rf_scores)\n",
    "# display_scores(rf_rmse_scores)"
   ]
  },
  {
   "cell_type": "markdown",
   "id": "e5a85302",
   "metadata": {},
   "source": [
    "**x_train_waterfront_condition**"
   ]
  },
  {
   "cell_type": "code",
   "execution_count": 37,
   "id": "3fad34fe",
   "metadata": {},
   "outputs": [],
   "source": [
    "x_train_waterfront_condition[\"waterfront_condition\"] = x_train.waterfront + x_train.condition\n",
    "\n",
    "# rf_reg = ExtraTreesRegressor(random_state = 42, n_jobs = -1)\n",
    "# rf_reg.fit(x_train_waterfront_condition, y_labels)\n",
    "\n",
    "# rf_scores = cross_val_score(rf_reg, x_train_waterfront_condition, y_labels, scoring = \"neg_mean_squared_error\", cv=10)\n",
    "# rf_rmse_scores = np.sqrt(-rf_scores)\n",
    "# display_scores(rf_rmse_scores)"
   ]
  },
  {
   "cell_type": "markdown",
   "id": "07fdda3f",
   "metadata": {},
   "source": [
    "**x_train_waterfront_sqft_living15**"
   ]
  },
  {
   "cell_type": "code",
   "execution_count": 38,
   "id": "7d72bc05",
   "metadata": {},
   "outputs": [],
   "source": [
    "x_train_waterfront_sqft_living15[\"waterfront_sqft_living15\"] = x_train.waterfront * x_train.sqft_living15\n",
    "\n",
    "# rf_reg = ExtraTreesRegressor(random_state = 42, n_jobs = -1)\n",
    "# rf_reg.fit(x_train_waterfront_sqft_living15, y_labels)\n",
    "\n",
    "# rf_scores = cross_val_score(rf_reg, x_train_waterfront_sqft_living15, y_labels, scoring = \"neg_mean_squared_error\", cv=10)\n",
    "# rf_rmse_scores = np.sqrt(-rf_scores)\n",
    "# display_scores(rf_rmse_scores)"
   ]
  },
  {
   "cell_type": "markdown",
   "id": "3bb11f89",
   "metadata": {},
   "source": [
    "# x_train_grade"
   ]
  },
  {
   "cell_type": "code",
   "execution_count": 39,
   "id": "5e1cf060",
   "metadata": {},
   "outputs": [],
   "source": [
    "x_train_grade_sqft_living = x_train.copy()\n",
    "x_train_grade_view = x_train.copy()\n",
    "x_train_grade_zipcode = x_train.copy()\n",
    "x_train_grade_date = x_train.copy()\n",
    "x_train_grade_condition = x_train.copy()\n",
    "x_train_grade_sqft_living15 = x_train.copy()"
   ]
  },
  {
   "cell_type": "markdown",
   "id": "8aed7e95",
   "metadata": {},
   "source": [
    "**x_train_grade_sqft_living**"
   ]
  },
  {
   "cell_type": "code",
   "execution_count": 40,
   "id": "cd384e75",
   "metadata": {},
   "outputs": [],
   "source": [
    "x_train_grade_sqft_living[\"grade_sqft_living\"] = x_train.grade * x_train.sqft_living\n",
    "\n",
    "# rf_reg = ExtraTreesRegressor(random_state = 42, n_jobs = -1)\n",
    "# rf_reg.fit(x_train_grade_sqft_living, y_labels)\n",
    "\n",
    "# rf_scores = cross_val_score(rf_reg, x_train_grade_sqft_living, y_labels, scoring = \"neg_mean_squared_error\", cv=10)\n",
    "# rf_rmse_scores = np.sqrt(-rf_scores)\n",
    "# display_scores(rf_rmse_scores)"
   ]
  },
  {
   "cell_type": "markdown",
   "id": "06e515c8",
   "metadata": {},
   "source": [
    "**x_train_grade_view**"
   ]
  },
  {
   "cell_type": "code",
   "execution_count": 41,
   "id": "2f14e0dd",
   "metadata": {},
   "outputs": [],
   "source": [
    "x_train_grade_view[\"grade_view\"] = x_train.view / x_train.grade\n",
    "\n",
    "# rf_reg = ExtraTreesRegressor(random_state = 42, n_jobs = -1)\n",
    "# rf_reg.fit(x_train_grade_view, y_labels)\n",
    "\n",
    "# rf_scores = cross_val_score(rf_reg, x_train_grade_view, y_labels, scoring = \"neg_mean_squared_error\", cv=10)\n",
    "# rf_rmse_scores = np.sqrt(-rf_scores)\n",
    "# display_scores(rf_rmse_scores)"
   ]
  },
  {
   "cell_type": "markdown",
   "id": "93b223be",
   "metadata": {},
   "source": [
    "**x_train_grade_zipcode**"
   ]
  },
  {
   "cell_type": "code",
   "execution_count": 42,
   "id": "1379be5d",
   "metadata": {},
   "outputs": [],
   "source": [
    "x_train_grade_zipcode[\"grade_zipcode\"] = x_train.grade + x_train.zipcode\n",
    "\n",
    "# rf_reg = ExtraTreesRegressor(random_state = 42, n_jobs = -1)\n",
    "# rf_reg.fit(x_train_grade_zipcode, y_labels)\n",
    "\n",
    "# rf_scores = cross_val_score(rf_reg, x_train_grade_zipcode, y_labels, scoring = \"neg_mean_squared_error\", cv=10)\n",
    "# rf_rmse_scores = np.sqrt(-rf_scores)\n",
    "# display_scores(rf_rmse_scores)"
   ]
  },
  {
   "cell_type": "markdown",
   "id": "c122d686",
   "metadata": {},
   "source": [
    "**x_train_grade_date**"
   ]
  },
  {
   "cell_type": "code",
   "execution_count": 43,
   "id": "182e8538",
   "metadata": {},
   "outputs": [],
   "source": [
    "x_train_grade_date[\"grade_date\"] = x_train.grade - x_train.date\n",
    "\n",
    "# rf_reg = ExtraTreesRegressor(random_state = 42, n_jobs = -1)\n",
    "# rf_reg.fit(x_train_grade_date, y_labels)\n",
    "\n",
    "# rf_scores = cross_val_score(rf_reg, x_train_grade_date, y_labels, scoring = \"neg_mean_squared_error\", cv=10)\n",
    "# rf_rmse_scores = np.sqrt(-rf_scores)\n",
    "# display_scores(rf_rmse_scores)"
   ]
  },
  {
   "cell_type": "markdown",
   "id": "6baf673e",
   "metadata": {},
   "source": [
    "**x_train_grade_condition**"
   ]
  },
  {
   "cell_type": "code",
   "execution_count": 44,
   "id": "effab3d1",
   "metadata": {
    "scrolled": true
   },
   "outputs": [],
   "source": [
    "x_train_grade_condition[\"grade_condition\"] = x_train.grade / x_train.condition\n",
    "\n",
    "# rf_reg = ExtraTreesRegressor(random_state = 42, n_jobs = -1)\n",
    "# rf_reg.fit(x_train_grade_condition, y_labels)\n",
    "\n",
    "# rf_scores = cross_val_score(rf_reg, x_train_grade_condition, y_labels, scoring = \"neg_mean_squared_error\", cv=10)\n",
    "# rf_rmse_scores = np.sqrt(-rf_scores)\n",
    "# display_scores(rf_rmse_scores)"
   ]
  },
  {
   "cell_type": "markdown",
   "id": "bc15d03f",
   "metadata": {},
   "source": [
    "**x_train_grade_sqft_living15**"
   ]
  },
  {
   "cell_type": "code",
   "execution_count": 45,
   "id": "dc30145e",
   "metadata": {},
   "outputs": [],
   "source": [
    "x_train_grade_sqft_living15[\"grade_sqft_living15\"] = x_train.grade * x_train.sqft_living15\n",
    "\n",
    "# rf_reg = ExtraTreesRegressor(random_state = 42, n_jobs = -1)\n",
    "# rf_reg.fit(x_train_grade_sqft_living15, y_labels)\n",
    "\n",
    "# rf_scores = cross_val_score(rf_reg, x_train_grade_sqft_living15, y_labels, scoring = \"neg_mean_squared_error\", cv=10)\n",
    "# rf_rmse_scores = np.sqrt(-rf_scores)\n",
    "# display_scores(rf_rmse_scores)"
   ]
  },
  {
   "cell_type": "markdown",
   "id": "f842b6ea",
   "metadata": {},
   "source": [
    "# x_train_sqft_living"
   ]
  },
  {
   "cell_type": "code",
   "execution_count": 46,
   "id": "364182c6",
   "metadata": {},
   "outputs": [],
   "source": [
    "x_train_sqft_living_view = x_train.copy()\n",
    "x_train_sqft_living_zipcode = x_train.copy()\n",
    "x_train_sqft_living_date = x_train.copy()\n",
    "x_train_sqft_living_condition = x_train.copy()\n",
    "x_train_sqft_living_sqft_living15 = x_train.copy()"
   ]
  },
  {
   "cell_type": "markdown",
   "id": "c4c55db6",
   "metadata": {},
   "source": [
    "**x_train_sqft_living_view**"
   ]
  },
  {
   "cell_type": "code",
   "execution_count": 47,
   "id": "53c2aa5b",
   "metadata": {
    "scrolled": true
   },
   "outputs": [],
   "source": [
    "x_train_sqft_living_view[\"sqft_living_view\"] = x_train.view / x_train.sqft_living\n",
    "\n",
    "# rf_reg = ExtraTreesRegressor(random_state = 42, n_jobs = -1)\n",
    "# rf_reg.fit(x_train_sqft_living_view, y_labels)\n",
    "\n",
    "# rf_scores = cross_val_score(rf_reg, x_train_sqft_living_view, y_labels, scoring = \"neg_mean_squared_error\", cv=10)\n",
    "# rf_rmse_scores = np.sqrt(-rf_scores)\n",
    "# display_scores(rf_rmse_scores)"
   ]
  },
  {
   "cell_type": "markdown",
   "id": "40ccce79",
   "metadata": {},
   "source": [
    "**x_train_sqft_living_zipcode**"
   ]
  },
  {
   "cell_type": "code",
   "execution_count": 48,
   "id": "56d0a5a9",
   "metadata": {},
   "outputs": [],
   "source": [
    "x_train_sqft_living_zipcode[\"sqft_living_zipcode\"] = x_train.sqft_living * x_train.zipcode\n",
    "\n",
    "# rf_reg = ExtraTreesRegressor(random_state = 42, n_jobs = -1)\n",
    "# rf_reg.fit(x_train_sqft_living_zipcode, y_labels)\n",
    "\n",
    "# rf_scores = cross_val_score(rf_reg, x_train_sqft_living_zipcode, y_labels, scoring = \"neg_mean_squared_error\", cv=10)\n",
    "# rf_rmse_scores = np.sqrt(-rf_scores)\n",
    "# display_scores(rf_rmse_scores)"
   ]
  },
  {
   "cell_type": "markdown",
   "id": "11c00548",
   "metadata": {},
   "source": [
    "**x_train_sqft_living_date**"
   ]
  },
  {
   "cell_type": "code",
   "execution_count": 49,
   "id": "d4064bc8",
   "metadata": {},
   "outputs": [],
   "source": [
    "x_train_sqft_living_date[\"sqft_living_date\"] = x_train.sqft_living - x_train.date\n",
    "\n",
    "# rf_reg = ExtraTreesRegressor(random_state = 42, n_jobs = -1)\n",
    "# rf_reg.fit(x_train_sqft_living_date, y_labels)\n",
    "\n",
    "# rf_scores = cross_val_score(rf_reg, x_train_sqft_living_date, y_labels, scoring = \"neg_mean_squared_error\", cv=10)\n",
    "# rf_rmse_scores = np.sqrt(-rf_scores)\n",
    "# display_scores(rf_rmse_scores)"
   ]
  },
  {
   "cell_type": "markdown",
   "id": "68af64a2",
   "metadata": {},
   "source": [
    "**x_train_sqft_living_condition**"
   ]
  },
  {
   "cell_type": "code",
   "execution_count": 50,
   "id": "35fe0e83",
   "metadata": {},
   "outputs": [],
   "source": [
    "x_train_sqft_living_condition[\"sqft_living_condition\"] = x_train.sqft_living + x_train.condition\n",
    "\n",
    "# rf_reg = ExtraTreesRegressor(random_state = 42, n_jobs = -1)\n",
    "# rf_reg.fit(x_train_sqft_living_condition, y_labels)\n",
    "\n",
    "# rf_scores = cross_val_score(rf_reg, x_train_sqft_living_condition, y_labels, scoring = \"neg_mean_squared_error\", cv=10)\n",
    "# rf_rmse_scores = np.sqrt(-rf_scores)\n",
    "# display_scores(rf_rmse_scores)"
   ]
  },
  {
   "cell_type": "markdown",
   "id": "b7b2d1df",
   "metadata": {},
   "source": [
    "**x_train_sqft_living_sqft_living15**"
   ]
  },
  {
   "cell_type": "code",
   "execution_count": 51,
   "id": "7567dc9e",
   "metadata": {},
   "outputs": [],
   "source": [
    "x_train_sqft_living_sqft_living15[\"sqft_living_sqft_living15\"] = x_train.sqft_living + x_train.sqft_living15\n",
    "\n",
    "# rf_reg = ExtraTreesRegressor(random_state = 42, n_jobs = -1)\n",
    "# rf_reg.fit(x_train_sqft_living_sqft_living15, y_labels)\n",
    "\n",
    "# rf_scores = cross_val_score(rf_reg, x_train_sqft_living_sqft_living15, y_labels, scoring = \"neg_mean_squared_error\", cv=10)\n",
    "# rf_rmse_scores = np.sqrt(-rf_scores)\n",
    "# display_scores(rf_rmse_scores)"
   ]
  },
  {
   "cell_type": "markdown",
   "id": "0fd6af1f",
   "metadata": {},
   "source": [
    "# x_train_view & x_train_zipcode"
   ]
  },
  {
   "cell_type": "code",
   "execution_count": 52,
   "id": "412bc93b",
   "metadata": {},
   "outputs": [],
   "source": [
    "x_train_view_zipcode = x_train.copy()\n",
    "x_train_view_date = x_train.copy()\n",
    "x_train_view_condition = x_train.copy()\n",
    "x_train_view_sqft_living15 = x_train.copy()\n",
    "\n",
    "x_train_zipcode_date = x_train.copy()\n",
    "x_train_zipcode_condition = x_train.copy()\n",
    "x_train_zipcode_sqft_living15 = x_train.copy()"
   ]
  },
  {
   "cell_type": "markdown",
   "id": "b0f1ca21",
   "metadata": {},
   "source": [
    "**x_train_view_zipcode**"
   ]
  },
  {
   "cell_type": "code",
   "execution_count": 53,
   "id": "f1a5e46e",
   "metadata": {},
   "outputs": [],
   "source": [
    "x_train_view_zipcode[\"view_zipcode\"] = x_train.view - x_train.zipcode\n",
    "\n",
    "# rf_reg = ExtraTreesRegressor(random_state = 42, n_jobs = -1)\n",
    "# rf_reg.fit(x_train_view_zipcode, y_labels)\n",
    "\n",
    "# rf_scores = cross_val_score(rf_reg, x_train_view_zipcode, y_labels, scoring = \"neg_mean_squared_error\", cv=10)\n",
    "# rf_rmse_scores = np.sqrt(-rf_scores)\n",
    "# display_scores(rf_rmse_scores)"
   ]
  },
  {
   "cell_type": "markdown",
   "id": "fe06cfd5",
   "metadata": {},
   "source": [
    "**x_train_view_date**"
   ]
  },
  {
   "cell_type": "code",
   "execution_count": 54,
   "id": "81c0fff0",
   "metadata": {},
   "outputs": [],
   "source": [
    "x_train_view_date[\"view_date\"] = x_train.view * x_train.date\n",
    "\n",
    "# rf_reg = ExtraTreesRegressor(random_state = 42, n_jobs = -1)\n",
    "# rf_reg.fit(x_train_view_date, y_labels)\n",
    "\n",
    "# rf_scores = cross_val_score(rf_reg, x_train_view_date, y_labels, scoring = \"neg_mean_squared_error\", cv=10)\n",
    "# rf_rmse_scores = np.sqrt(-rf_scores)\n",
    "# display_scores(rf_rmse_scores)"
   ]
  },
  {
   "cell_type": "markdown",
   "id": "a9d219ef",
   "metadata": {},
   "source": [
    "**x_train_view_condition**"
   ]
  },
  {
   "cell_type": "code",
   "execution_count": 55,
   "id": "cc5cd0d1",
   "metadata": {},
   "outputs": [],
   "source": [
    "x_train_view_condition[\"view_condition\"] = x_train.view * x_train.condition\n",
    "\n",
    "# rf_reg = ExtraTreesRegressor(random_state = 42, n_jobs = -1)\n",
    "# rf_reg.fit(x_train_view_condition, y_labels)\n",
    "\n",
    "# rf_scores = cross_val_score(rf_reg, x_train_view_condition, y_labels, scoring = \"neg_mean_squared_error\", cv=10)\n",
    "# rf_rmse_scores = np.sqrt(-rf_scores)\n",
    "# display_scores(rf_rmse_scores)"
   ]
  },
  {
   "cell_type": "markdown",
   "id": "969d5da3",
   "metadata": {},
   "source": [
    "**x_train_view_sqft_living15**"
   ]
  },
  {
   "cell_type": "code",
   "execution_count": 56,
   "id": "3894479b",
   "metadata": {
    "scrolled": true
   },
   "outputs": [],
   "source": [
    "x_train_view_sqft_living15[\"view_sqft_living15\"] = x_train.view / x_train.sqft_living15\n",
    "\n",
    "# rf_reg = ExtraTreesRegressor(random_state = 42, n_jobs = -1)\n",
    "# rf_reg.fit(x_train_view_sqft_living15, y_labels)\n",
    "\n",
    "# rf_scores = cross_val_score(rf_reg, x_train_view_sqft_living15, y_labels, scoring = \"neg_mean_squared_error\", cv=10)\n",
    "# rf_rmse_scores = np.sqrt(-rf_scores)\n",
    "# display_scores(rf_rmse_scores)"
   ]
  },
  {
   "cell_type": "markdown",
   "id": "3086102f",
   "metadata": {},
   "source": [
    "**x_train_zipcode_date**"
   ]
  },
  {
   "cell_type": "code",
   "execution_count": 57,
   "id": "d7b009a0",
   "metadata": {},
   "outputs": [],
   "source": [
    "x_train_zipcode_date[\"zipcode_date\"] = x_train.zipcode + x_train.date\n",
    "\n",
    "# rf_reg = ExtraTreesRegressor(random_state = 42, n_jobs = -1)\n",
    "# rf_reg.fit(x_train_zipcode_date, y_labels)\n",
    "\n",
    "# rf_scores = cross_val_score(rf_reg, x_train_zipcode_date, y_labels, scoring = \"neg_mean_squared_error\", cv=10)\n",
    "# rf_rmse_scores = np.sqrt(-rf_scores)\n",
    "# display_scores(rf_rmse_scores)"
   ]
  },
  {
   "cell_type": "markdown",
   "id": "865b2d0d",
   "metadata": {},
   "source": [
    "**x_train_zipcode_condition**"
   ]
  },
  {
   "cell_type": "code",
   "execution_count": 58,
   "id": "1264ffe8",
   "metadata": {},
   "outputs": [],
   "source": [
    "x_train_zipcode_condition[\"zipcode_condition\"] = x_train.zipcode * x_train.condition\n",
    "\n",
    "# rf_reg = ExtraTreesRegressor(random_state = 42, n_jobs = -1)\n",
    "# rf_reg.fit(x_train_zipcode_condition, y_labels)\n",
    "\n",
    "# rf_scores = cross_val_score(rf_reg, x_train_zipcode_condition, y_labels, scoring = \"neg_mean_squared_error\", cv=10)\n",
    "# rf_rmse_scores = np.sqrt(-rf_scores)\n",
    "# display_scores(rf_rmse_scores)"
   ]
  },
  {
   "cell_type": "markdown",
   "id": "911a7272",
   "metadata": {},
   "source": [
    "**x_train_zipcode_sqft_living15**"
   ]
  },
  {
   "cell_type": "code",
   "execution_count": 59,
   "id": "d370405d",
   "metadata": {},
   "outputs": [],
   "source": [
    "x_train_zipcode_sqft_living15[\"zipcode_sqft_living15\"] = x_train.zipcode + x_train.sqft_living15\n",
    "\n",
    "# rf_reg = ExtraTreesRegressor(random_state = 42, n_jobs = -1)\n",
    "# rf_reg.fit(x_train_zipcode_sqft_living15, y_labels)\n",
    "\n",
    "# rf_scores = cross_val_score(rf_reg, x_train_zipcode_sqft_living15, y_labels, scoring = \"neg_mean_squared_error\", cv=10)\n",
    "# rf_rmse_scores = np.sqrt(-rf_scores)\n",
    "# display_scores(rf_rmse_scores)"
   ]
  },
  {
   "cell_type": "markdown",
   "id": "73230628",
   "metadata": {},
   "source": [
    "# x_train_date & x_train_condition"
   ]
  },
  {
   "cell_type": "code",
   "execution_count": 60,
   "id": "927481c9",
   "metadata": {},
   "outputs": [],
   "source": [
    "x_train_date_condition = x_train.copy()\n",
    "x_train_date_sqft_living15 = x_train.copy()\n",
    "\n",
    "x_train_condition_sqft_living15 = x_train.copy()"
   ]
  },
  {
   "cell_type": "markdown",
   "id": "a80df3e1",
   "metadata": {},
   "source": [
    "**x_train_date_condition**"
   ]
  },
  {
   "cell_type": "code",
   "execution_count": 61,
   "id": "fb0e6905",
   "metadata": {
    "scrolled": true
   },
   "outputs": [],
   "source": [
    "x_train_date_condition[\"date_condition\"] = x_train.date + x_train.condition\n",
    "\n",
    "# rf_reg = ExtraTreesRegressor(random_state = 42, n_jobs = -1)\n",
    "# rf_reg.fit(x_train_date_condition, y_labels)\n",
    "\n",
    "# rf_scores = cross_val_score(rf_reg, x_train_date_condition, y_labels, scoring = \"neg_mean_squared_error\", cv=10)\n",
    "# rf_rmse_scores = np.sqrt(-rf_scores)\n",
    "# display_scores(rf_rmse_scores)"
   ]
  },
  {
   "cell_type": "markdown",
   "id": "810d47bd",
   "metadata": {},
   "source": [
    "**x_train_date_sqft_living15**"
   ]
  },
  {
   "cell_type": "code",
   "execution_count": 62,
   "id": "1a43b6c8",
   "metadata": {
    "scrolled": true
   },
   "outputs": [],
   "source": [
    "x_train_date_sqft_living15[\"date_sqft_living15\"] = x_train.date - x_train.sqft_living15\n",
    "\n",
    "# rf_reg = ExtraTreesRegressor(random_state = 42, n_jobs = -1)\n",
    "# rf_reg.fit(x_train_date_sqft_living15, y_labels)\n",
    "\n",
    "# rf_scores = cross_val_score(rf_reg, x_train_date_sqft_living15, y_labels, scoring = \"neg_mean_squared_error\", cv=10)\n",
    "# rf_rmse_scores = np.sqrt(-rf_scores)\n",
    "# display_scores(rf_rmse_scores)"
   ]
  },
  {
   "cell_type": "markdown",
   "id": "c46916f8",
   "metadata": {},
   "source": [
    "**x_train_condition_sqft_living15**"
   ]
  },
  {
   "cell_type": "code",
   "execution_count": 63,
   "id": "2c84e301",
   "metadata": {
    "scrolled": false
   },
   "outputs": [],
   "source": [
    "x_train_condition_sqft_living15[\"condition_sqft_living15\"] = x_train.condition - x_train.sqft_living15\n",
    "\n",
    "# rf_reg = ExtraTreesRegressor(random_state = 42, n_jobs = -1)\n",
    "# rf_reg.fit(x_train_condition_sqft_living15, y_labels)\n",
    "\n",
    "# rf_scores = cross_val_score(rf_reg, x_train_condition_sqft_living15, y_labels, scoring = \"neg_mean_squared_error\", cv=10)\n",
    "# rf_rmse_scores = np.sqrt(-rf_scores)\n",
    "# display_scores(rf_rmse_scores)"
   ]
  },
  {
   "cell_type": "markdown",
   "id": "6a7f796d",
   "metadata": {},
   "source": [
    "# 좋게 나온 결과들만 합쳐서 특성에 추가함"
   ]
  },
  {
   "cell_type": "markdown",
   "id": "a1bc6fd5",
   "metadata": {},
   "source": [
    "**117304... 기본 파라미터 기준 사실상 최고값(랜덤 42)**\n",
    "\n",
    "random_state를 1000까지 서치 해보면 693에서 최고값임\n",
    "\n",
    "부스팅/보팅 뭔가 잘 안됨...그냥 랜덤값이나 찾아볼 것"
   ]
  },
  {
   "cell_type": "code",
   "execution_count": 64,
   "id": "b058fd3a",
   "metadata": {
    "scrolled": false
   },
   "outputs": [
    {
     "name": "stdout",
     "output_type": "stream",
     "text": [
      "Scores: [120558.76926544 129760.01053828 107805.74399612 117873.03518671\n",
      "  98836.08638891 120584.12452125 123111.37631234 114646.10557796\n",
      " 115883.4399411  123989.23735818]\n",
      "Mean: 117304.79290862972\n",
      "Standard deviation: 8340.322806716837\n"
     ]
    }
   ],
   "source": [
    "x_train_comb = x_train.copy()\n",
    "\n",
    "x_train_comb[\"lat_long\"] = x_train.lat / x_train.long #122696\n",
    "x_train_comb[\"lat_waterfront\"] = x_train.lat + x_train.waterfront #123195\n",
    "x_train_comb[\"long_waterfront\"] = x_train.long - x_train.waterfront #122865\n",
    "x_train_comb[\"long_zipcode\"] = x_train.long / x_train.zipcode #122366\n",
    "x_train_comb[\"long_date\"] = x_train.long * x_train.date #121885\n",
    "x_train_comb[\"sqft_living_sqft_living15\"] = x_train.sqft_living + x_train.sqft_living15 #123438\n",
    "x_train_comb[\"lat_zipcode\"] = x_train.lat / x_train.zipcode #123588\n",
    "\n",
    "etr_reg = ExtraTreesRegressor(random_state = 42, n_jobs = -1)\n",
    "etr_reg.fit(x_train_comb, y_labels)\n",
    "\n",
    "etr_scores = cross_val_score(etr_reg, x_train_comb, y_labels, scoring = \"neg_mean_squared_error\", cv=10)\n",
    "etr_rmse_scores = np.sqrt(-etr_scores)\n",
    "display_scores(etr_rmse_scores)"
   ]
  },
  {
   "cell_type": "markdown",
   "id": "3981db93",
   "metadata": {},
   "source": [
    "# 랜덤 시드 찾기 (테스트)"
   ]
  },
  {
   "cell_type": "code",
   "execution_count": null,
   "id": "3739991d",
   "metadata": {},
   "outputs": [],
   "source": [
    "etr_reg = ExtraTreesRegressor(random_state = 693, n_jobs = -1)\n",
    "etr_reg.fit(x_train_comb, y_labels)\n",
    "\n",
    "etr_scores = cross_val_score(etr_reg, x_train_comb, y_labels, scoring = \"neg_mean_squared_error\", cv=10)\n",
    "past_rmse_scores = np.sqrt(-etr_scores)\n",
    "\n",
    "for x in range(1000, 10000):\n",
    "    etr_reg = ExtraTreesRegressor(random_state = x, n_jobs = -1)\n",
    "    etr_reg.fit(x_train_comb, y_labels)\n",
    "\n",
    "    etr_scores = cross_val_score(etr_reg, x_train_comb, y_labels, scoring = \"neg_mean_squared_error\", cv=10)\n",
    "    current_rmse_scores = np.sqrt(-etr_scores)\n",
    "    \n",
    "    if current_rmse_scores.mean() < past_rmse_scores.mean():\n",
    "        past_rmse_scores = current_rmse_scores\n",
    "        print(f\"{x}번째 rmse값{past_rmse_scores}\")\n",
    "        \n",
    "display_scores(past_rmse_scores)\n",
    "\n",
    "# 너무 오래 걸림.."
   ]
  },
  {
   "cell_type": "code",
   "execution_count": null,
   "id": "593ddcc0",
   "metadata": {},
   "outputs": [],
   "source": [
    "print(x)\n",
    "\n",
    "# 3000번째 rmse값[119854.58872112 128288.8407912  107455.72553479 113545.97383659\n",
    "#   98395.39859411 116706.83423825 124133.42950323 112951.19578099\n",
    "#  113757.36474771 125182.83377625]\n",
    "# 5619번째 rmse값[119987.48664853 131149.76469063 107812.7078123  113821.84019749\n",
    "#   98160.2627291  113048.83323469 123053.44788626 113756.88232097\n",
    "#  116026.87906551 122215.7497621 ]"
   ]
  },
  {
   "cell_type": "markdown",
   "id": "977dd77d",
   "metadata": {},
   "source": [
    "# Voting Test"
   ]
  },
  {
   "cell_type": "code",
   "execution_count": 65,
   "id": "968ea737",
   "metadata": {},
   "outputs": [
    {
     "name": "stdout",
     "output_type": "stream",
     "text": [
      "Scores: [119987.48664853 131149.76469063 107812.7078123  113821.84019749\n",
      "  98160.2627291  113048.83323469 123053.44788626 113756.88232097\n",
      " 116026.87906551 122215.7497621 ]\n",
      "Mean: 115903.38543475726\n",
      "Standard deviation: 8587.681831962236\n"
     ]
    }
   ],
   "source": [
    "etr_reg1 = ExtraTreesRegressor(random_state = 5619, n_jobs = -1)\n",
    "etr_reg1.fit(x_train_comb, y_labels)\n",
    "\n",
    "etr_scores1 = cross_val_score(etr_reg1, x_train_comb, y_labels, scoring = \"neg_mean_squared_error\", cv=10, n_jobs = -1)\n",
    "etr_rmse_scores1 = np.sqrt(-etr_scores1)\n",
    "display_scores(etr_rmse_scores1)"
   ]
  },
  {
   "cell_type": "code",
   "execution_count": 66,
   "id": "393c90c0",
   "metadata": {},
   "outputs": [
    {
     "name": "stdout",
     "output_type": "stream",
     "text": [
      "Scores: [119854.58872112 128288.8407912  107455.72553479 113545.97383659\n",
      "  98395.39859411 116706.83423825 124133.42950323 112951.19578099\n",
      " 113757.36474771 125182.83377625]\n",
      "Mean: 116027.21855242441\n",
      "Standard deviation: 8485.966422509851\n"
     ]
    }
   ],
   "source": [
    "etr_reg2 = ExtraTreesRegressor(random_state = 3000, n_jobs = -1)\n",
    "etr_reg2.fit(x_train_comb, y_labels)\n",
    "\n",
    "etr_scores2 = cross_val_score(etr_reg2, x_train_comb, y_labels, scoring = \"neg_mean_squared_error\", cv=10, n_jobs = -1)\n",
    "etr_rmse_scores2 = np.sqrt(-etr_scores2)\n",
    "display_scores(etr_rmse_scores2)"
   ]
  },
  {
   "cell_type": "markdown",
   "id": "228511d8",
   "metadata": {},
   "source": [
    "# Result!"
   ]
  },
  {
   "cell_type": "code",
   "execution_count": 67,
   "id": "62baba8b",
   "metadata": {},
   "outputs": [
    {
     "name": "stdout",
     "output_type": "stream",
     "text": [
      "Scores: [119436.40934729 129338.46270938 107256.86126407 113303.48391745\n",
      "  97909.38910981 114468.12801648 123180.97576399 112951.56608926\n",
      " 114458.39721175 123308.94678331]\n",
      "Mean: 115561.26202127934\n",
      "Standard deviation: 8472.223433516689\n"
     ]
    }
   ],
   "source": [
    "from sklearn.ensemble import VotingRegressor\n",
    "\n",
    "voting_clf = VotingRegressor(estimators = [('etr1', etr_reg1), ('etr2', etr_reg2)])\n",
    "voting_clf.fit(x_train_comb, y_labels)\n",
    "\n",
    "vt_scores = cross_val_score(voting_clf, x_train_comb, y_labels, scoring = \"neg_mean_squared_error\", cv=10, n_jobs = -1)\n",
    "vt_rmse_scores = np.sqrt(-vt_scores)\n",
    "display_scores(vt_rmse_scores)"
   ]
  },
  {
   "cell_type": "code",
   "execution_count": 68,
   "id": "f7b97a23",
   "metadata": {},
   "outputs": [
    {
     "name": "stdout",
     "output_type": "stream",
     "text": [
      "Mean: 115561.26202127934\n"
     ]
    }
   ],
   "source": [
    "display_scores_mean(vt_rmse_scores)"
   ]
  }
 ],
 "metadata": {
  "kernelspec": {
   "display_name": "Python 3 (ipykernel)",
   "language": "python",
   "name": "python3"
  },
  "language_info": {
   "codemirror_mode": {
    "name": "ipython",
    "version": 3
   },
   "file_extension": ".py",
   "mimetype": "text/x-python",
   "name": "python",
   "nbconvert_exporter": "python",
   "pygments_lexer": "ipython3",
   "version": "3.9.7"
  }
 },
 "nbformat": 4,
 "nbformat_minor": 5
}
